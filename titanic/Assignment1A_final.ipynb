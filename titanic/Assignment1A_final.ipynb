{
 "cells": [
  {
   "cell_type": "markdown",
   "metadata": {},
   "source": [
    "# Assignment 1\n",
    "## Part A - Titanic"
   ]
  },
  {
   "cell_type": "code",
   "execution_count": 174,
   "metadata": {},
   "outputs": [],
   "source": [
    "import numpy as np\n",
    "import pandas as pd\n",
    "import matplotlib.pyplot as plt\n",
    "import seaborn as sns\n",
    "\n",
    "%matplotlib inline"
   ]
  },
  {
   "cell_type": "code",
   "execution_count": 175,
   "metadata": {},
   "outputs": [],
   "source": [
    "train = pd.read_csv(\"train.csv\")"
   ]
  },
  {
   "cell_type": "markdown",
   "metadata": {},
   "source": [
    "#### Exploratory data analysis"
   ]
  },
  {
   "cell_type": "code",
   "execution_count": 176,
   "metadata": {},
   "outputs": [
    {
     "name": "stdout",
     "output_type": "stream",
     "text": [
      "<class 'pandas.core.frame.DataFrame'>\n",
      "RangeIndex: 891 entries, 0 to 890\n",
      "Data columns (total 12 columns):\n",
      "PassengerId    891 non-null int64\n",
      "Survived       891 non-null int64\n",
      "Pclass         891 non-null int64\n",
      "Name           891 non-null object\n",
      "Sex            891 non-null object\n",
      "Age            714 non-null float64\n",
      "SibSp          891 non-null int64\n",
      "Parch          891 non-null int64\n",
      "Ticket         891 non-null object\n",
      "Fare           891 non-null float64\n",
      "Cabin          204 non-null object\n",
      "Embarked       889 non-null object\n",
      "dtypes: float64(2), int64(5), object(5)\n",
      "memory usage: 83.6+ KB\n"
     ]
    }
   ],
   "source": [
    "train.info()"
   ]
  },
  {
   "cell_type": "code",
   "execution_count": 177,
   "metadata": {},
   "outputs": [
    {
     "data": {
      "text/html": [
       "<div>\n",
       "<style scoped>\n",
       "    .dataframe tbody tr th:only-of-type {\n",
       "        vertical-align: middle;\n",
       "    }\n",
       "\n",
       "    .dataframe tbody tr th {\n",
       "        vertical-align: top;\n",
       "    }\n",
       "\n",
       "    .dataframe thead th {\n",
       "        text-align: right;\n",
       "    }\n",
       "</style>\n",
       "<table border=\"1\" class=\"dataframe\">\n",
       "  <thead>\n",
       "    <tr style=\"text-align: right;\">\n",
       "      <th></th>\n",
       "      <th>PassengerId</th>\n",
       "      <th>Survived</th>\n",
       "      <th>Pclass</th>\n",
       "      <th>Age</th>\n",
       "      <th>SibSp</th>\n",
       "      <th>Parch</th>\n",
       "      <th>Fare</th>\n",
       "    </tr>\n",
       "  </thead>\n",
       "  <tbody>\n",
       "    <tr>\n",
       "      <th>count</th>\n",
       "      <td>891.000000</td>\n",
       "      <td>891.000000</td>\n",
       "      <td>891.000000</td>\n",
       "      <td>714.000000</td>\n",
       "      <td>891.000000</td>\n",
       "      <td>891.000000</td>\n",
       "      <td>891.000000</td>\n",
       "    </tr>\n",
       "    <tr>\n",
       "      <th>mean</th>\n",
       "      <td>446.000000</td>\n",
       "      <td>0.383838</td>\n",
       "      <td>2.308642</td>\n",
       "      <td>29.699118</td>\n",
       "      <td>0.523008</td>\n",
       "      <td>0.381594</td>\n",
       "      <td>32.204208</td>\n",
       "    </tr>\n",
       "    <tr>\n",
       "      <th>std</th>\n",
       "      <td>257.353842</td>\n",
       "      <td>0.486592</td>\n",
       "      <td>0.836071</td>\n",
       "      <td>14.526497</td>\n",
       "      <td>1.102743</td>\n",
       "      <td>0.806057</td>\n",
       "      <td>49.693429</td>\n",
       "    </tr>\n",
       "    <tr>\n",
       "      <th>min</th>\n",
       "      <td>1.000000</td>\n",
       "      <td>0.000000</td>\n",
       "      <td>1.000000</td>\n",
       "      <td>0.420000</td>\n",
       "      <td>0.000000</td>\n",
       "      <td>0.000000</td>\n",
       "      <td>0.000000</td>\n",
       "    </tr>\n",
       "    <tr>\n",
       "      <th>25%</th>\n",
       "      <td>223.500000</td>\n",
       "      <td>0.000000</td>\n",
       "      <td>2.000000</td>\n",
       "      <td>20.125000</td>\n",
       "      <td>0.000000</td>\n",
       "      <td>0.000000</td>\n",
       "      <td>7.910400</td>\n",
       "    </tr>\n",
       "    <tr>\n",
       "      <th>50%</th>\n",
       "      <td>446.000000</td>\n",
       "      <td>0.000000</td>\n",
       "      <td>3.000000</td>\n",
       "      <td>28.000000</td>\n",
       "      <td>0.000000</td>\n",
       "      <td>0.000000</td>\n",
       "      <td>14.454200</td>\n",
       "    </tr>\n",
       "    <tr>\n",
       "      <th>75%</th>\n",
       "      <td>668.500000</td>\n",
       "      <td>1.000000</td>\n",
       "      <td>3.000000</td>\n",
       "      <td>38.000000</td>\n",
       "      <td>1.000000</td>\n",
       "      <td>0.000000</td>\n",
       "      <td>31.000000</td>\n",
       "    </tr>\n",
       "    <tr>\n",
       "      <th>max</th>\n",
       "      <td>891.000000</td>\n",
       "      <td>1.000000</td>\n",
       "      <td>3.000000</td>\n",
       "      <td>80.000000</td>\n",
       "      <td>8.000000</td>\n",
       "      <td>6.000000</td>\n",
       "      <td>512.329200</td>\n",
       "    </tr>\n",
       "  </tbody>\n",
       "</table>\n",
       "</div>"
      ],
      "text/plain": [
       "       PassengerId    Survived      Pclass         Age       SibSp  \\\n",
       "count   891.000000  891.000000  891.000000  714.000000  891.000000   \n",
       "mean    446.000000    0.383838    2.308642   29.699118    0.523008   \n",
       "std     257.353842    0.486592    0.836071   14.526497    1.102743   \n",
       "min       1.000000    0.000000    1.000000    0.420000    0.000000   \n",
       "25%     223.500000    0.000000    2.000000   20.125000    0.000000   \n",
       "50%     446.000000    0.000000    3.000000   28.000000    0.000000   \n",
       "75%     668.500000    1.000000    3.000000   38.000000    1.000000   \n",
       "max     891.000000    1.000000    3.000000   80.000000    8.000000   \n",
       "\n",
       "            Parch        Fare  \n",
       "count  891.000000  891.000000  \n",
       "mean     0.381594   32.204208  \n",
       "std      0.806057   49.693429  \n",
       "min      0.000000    0.000000  \n",
       "25%      0.000000    7.910400  \n",
       "50%      0.000000   14.454200  \n",
       "75%      0.000000   31.000000  \n",
       "max      6.000000  512.329200  "
      ]
     },
     "execution_count": 177,
     "metadata": {},
     "output_type": "execute_result"
    }
   ],
   "source": [
    "train.describe()"
   ]
  },
  {
   "cell_type": "code",
   "execution_count": 178,
   "metadata": {},
   "outputs": [
    {
     "name": "stdout",
     "output_type": "stream",
     "text": [
      "Name: 891 unique values\n",
      "Sex: 2 unique values\n",
      "Ticket: 681 unique values\n",
      "Cabin: 147 unique values\n",
      "Embarked: 3 unique values\n"
     ]
    }
   ],
   "source": [
    "for column in train.select_dtypes(exclude=[np.number]).columns.tolist():\n",
    "    print(\"{}: {} unique values\".format(column, train[column].nunique()))  "
   ]
  },
  {
   "cell_type": "code",
   "execution_count": 179,
   "metadata": {},
   "outputs": [
    {
     "data": {
      "text/html": [
       "<div>\n",
       "<style scoped>\n",
       "    .dataframe tbody tr th:only-of-type {\n",
       "        vertical-align: middle;\n",
       "    }\n",
       "\n",
       "    .dataframe tbody tr th {\n",
       "        vertical-align: top;\n",
       "    }\n",
       "\n",
       "    .dataframe thead th {\n",
       "        text-align: right;\n",
       "    }\n",
       "</style>\n",
       "<table border=\"1\" class=\"dataframe\">\n",
       "  <thead>\n",
       "    <tr style=\"text-align: right;\">\n",
       "      <th></th>\n",
       "      <th>PassengerId</th>\n",
       "      <th>Survived</th>\n",
       "      <th>Pclass</th>\n",
       "      <th>Name</th>\n",
       "      <th>Sex</th>\n",
       "      <th>Age</th>\n",
       "      <th>SibSp</th>\n",
       "      <th>Parch</th>\n",
       "      <th>Ticket</th>\n",
       "      <th>Fare</th>\n",
       "      <th>Cabin</th>\n",
       "      <th>Embarked</th>\n",
       "    </tr>\n",
       "  </thead>\n",
       "  <tbody>\n",
       "    <tr>\n",
       "      <th>0</th>\n",
       "      <td>1</td>\n",
       "      <td>0</td>\n",
       "      <td>3</td>\n",
       "      <td>Braund, Mr. Owen Harris</td>\n",
       "      <td>male</td>\n",
       "      <td>22.0</td>\n",
       "      <td>1</td>\n",
       "      <td>0</td>\n",
       "      <td>A/5 21171</td>\n",
       "      <td>7.2500</td>\n",
       "      <td>NaN</td>\n",
       "      <td>S</td>\n",
       "    </tr>\n",
       "    <tr>\n",
       "      <th>1</th>\n",
       "      <td>2</td>\n",
       "      <td>1</td>\n",
       "      <td>1</td>\n",
       "      <td>Cumings, Mrs. John Bradley (Florence Briggs Th...</td>\n",
       "      <td>female</td>\n",
       "      <td>38.0</td>\n",
       "      <td>1</td>\n",
       "      <td>0</td>\n",
       "      <td>PC 17599</td>\n",
       "      <td>71.2833</td>\n",
       "      <td>C85</td>\n",
       "      <td>C</td>\n",
       "    </tr>\n",
       "    <tr>\n",
       "      <th>2</th>\n",
       "      <td>3</td>\n",
       "      <td>1</td>\n",
       "      <td>3</td>\n",
       "      <td>Heikkinen, Miss. Laina</td>\n",
       "      <td>female</td>\n",
       "      <td>26.0</td>\n",
       "      <td>0</td>\n",
       "      <td>0</td>\n",
       "      <td>STON/O2. 3101282</td>\n",
       "      <td>7.9250</td>\n",
       "      <td>NaN</td>\n",
       "      <td>S</td>\n",
       "    </tr>\n",
       "    <tr>\n",
       "      <th>3</th>\n",
       "      <td>4</td>\n",
       "      <td>1</td>\n",
       "      <td>1</td>\n",
       "      <td>Futrelle, Mrs. Jacques Heath (Lily May Peel)</td>\n",
       "      <td>female</td>\n",
       "      <td>35.0</td>\n",
       "      <td>1</td>\n",
       "      <td>0</td>\n",
       "      <td>113803</td>\n",
       "      <td>53.1000</td>\n",
       "      <td>C123</td>\n",
       "      <td>S</td>\n",
       "    </tr>\n",
       "    <tr>\n",
       "      <th>4</th>\n",
       "      <td>5</td>\n",
       "      <td>0</td>\n",
       "      <td>3</td>\n",
       "      <td>Allen, Mr. William Henry</td>\n",
       "      <td>male</td>\n",
       "      <td>35.0</td>\n",
       "      <td>0</td>\n",
       "      <td>0</td>\n",
       "      <td>373450</td>\n",
       "      <td>8.0500</td>\n",
       "      <td>NaN</td>\n",
       "      <td>S</td>\n",
       "    </tr>\n",
       "  </tbody>\n",
       "</table>\n",
       "</div>"
      ],
      "text/plain": [
       "   PassengerId  Survived  Pclass  \\\n",
       "0            1         0       3   \n",
       "1            2         1       1   \n",
       "2            3         1       3   \n",
       "3            4         1       1   \n",
       "4            5         0       3   \n",
       "\n",
       "                                                Name     Sex   Age  SibSp  \\\n",
       "0                            Braund, Mr. Owen Harris    male  22.0      1   \n",
       "1  Cumings, Mrs. John Bradley (Florence Briggs Th...  female  38.0      1   \n",
       "2                             Heikkinen, Miss. Laina  female  26.0      0   \n",
       "3       Futrelle, Mrs. Jacques Heath (Lily May Peel)  female  35.0      1   \n",
       "4                           Allen, Mr. William Henry    male  35.0      0   \n",
       "\n",
       "   Parch            Ticket     Fare Cabin Embarked  \n",
       "0      0         A/5 21171   7.2500   NaN        S  \n",
       "1      0          PC 17599  71.2833   C85        C  \n",
       "2      0  STON/O2. 3101282   7.9250   NaN        S  \n",
       "3      0            113803  53.1000  C123        S  \n",
       "4      0            373450   8.0500   NaN        S  "
      ]
     },
     "execution_count": 179,
     "metadata": {},
     "output_type": "execute_result"
    }
   ],
   "source": [
    "train.head()"
   ]
  },
  {
   "cell_type": "markdown",
   "metadata": {},
   "source": [
    "\n",
    "- 'Ticket' and 'PassengerId' are unique identifiers and will be excluded from the analysis\n",
    "- How much a person paid for his/her fare would not directly impact his chances of survival at the time of the incident. Fare could be associated with factors such as class, cabin location, which could reasonably be expected survival but thesse factors are available in the training set. Therefore, 'Fare' will be excluded from analysis. \n",
    "- Data types for categorical variables such as 'Survived' and 'Pclass' will be converted from numerical to 'str'\n",
    "- There are missing values for 'Age' and 'Embarked'. These will need to be filled in later\n"
   ]
  },
  {
   "cell_type": "code",
   "execution_count": 180,
   "metadata": {},
   "outputs": [],
   "source": [
    "for column in ['Survived', 'Pclass']:\n",
    "    train[column] = train[column].astype('str')"
   ]
  },
  {
   "cell_type": "code",
   "execution_count": 181,
   "metadata": {},
   "outputs": [
    {
     "data": {
      "image/png": "[encoded data removed]",
      "text/plain": [
       "<Figure size 432x288 with 1 Axes>"
      ]
     },
     "metadata": {},
     "output_type": "display_data"
    },
    {
     "data": {
      "image/png": "[encoded data removed]",
      "text/plain": [
       "<Figure size 432x288 with 1 Axes>"
      ]
     },
     "metadata": {},
     "output_type": "display_data"
    },
    {
     "data": {
      "image/png": "[encoded data removed]",
      "text/plain": [
       "<Figure size 432x288 with 1 Axes>"
      ]
     },
     "metadata": {},
     "output_type": "display_data"
    },
    {
     "data": {
      "image/png": "[encoded data removed]",
      "text/plain": [
       "<Figure size 432x288 with 1 Axes>"
      ]
     },
     "metadata": {},
     "output_type": "display_data"
    },
    {
     "data": {
      "image/png": "[encoded data removed]",
      "text/plain": [
       "<Figure size 432x288 with 1 Axes>"
      ]
     },
     "metadata": {},
     "output_type": "display_data"
    }
   ],
   "source": [
    "cols = ['Pclass', 'Sex', 'SibSp','Parch', 'Embarked']\n",
    "for col in cols:\n",
    "    plt.figure()\n",
    "    sns.countplot(x=col, data = train, hue=\"Survived\")\n",
    "    plt.title(col)"
   ]
  },
  {
   "cell_type": "code",
   "execution_count": 182,
   "metadata": {},
   "outputs": [
    {
     "data": {
      "image/png": "[encoded data removed]",
      "text/plain": [
       "<Figure size 432x288 with 1 Axes>"
      ]
     },
     "metadata": {},
     "output_type": "display_data"
    }
   ],
   "source": [
    "for status in train[\"Survived\"].unique():\n",
    "    plt.hist(x='Age',data=train[(train['Survived']==status) & (~train['Age'].isna())], alpha=0.5, label=status, bins=30)\n",
    "    plt.title(\"Age distribution\")\n",
    "    plt.legend(title=\"Survived\")"
   ]
  },
  {
   "cell_type": "markdown",
   "metadata": {},
   "source": [
    "- Females and better Pclass (1 and 2) tend to have higher proportions of survivors\n",
    "- Those not travelling with family (SibSp or Parch = 0) and those embarking at 'S' tend to have lower proportions of survivors\n",
    "\n",
    "- Age appears to impact on the likelihood of survival, with a much higher proportion of survivors at the age ranges of 0-5 compared to other age groups"
   ]
  },
  {
   "cell_type": "markdown",
   "metadata": {},
   "source": [
    "#### Data cleaning/wrangling\n",
    "##### SibSp/Parch\n",
    "From the prelim data analysis, passengers travelling without SibSp/Parch tend to have lower survival rates. A new column will be created to indicate whether passenger has any family(SipSp or Parch) on board. "
   ]
  },
  {
   "cell_type": "code",
   "execution_count": 183,
   "metadata": {},
   "outputs": [
    {
     "data": {
      "image/png": "[encoded data removed]",
      "text/plain": [
       "<Figure size 432x288 with 1 Axes>"
      ]
     },
     "metadata": {},
     "output_type": "display_data"
    },
    {
     "data": {
      "image/png": "[encoded data removed]",
      "text/plain": [
       "<Figure size 432x288 with 1 Axes>"
      ]
     },
     "metadata": {},
     "output_type": "display_data"
    },
    {
     "data": {
      "image/png": "[encoded data removed]",
      "text/plain": [
       "<Figure size 432x288 with 1 Axes>"
      ]
     },
     "metadata": {},
     "output_type": "display_data"
    }
   ],
   "source": [
    "def transform_family_info(df):\n",
    "    df[\"HasSibSp\"] = 1\n",
    "    df[\"HasParch\"] = 1\n",
    "    df[\"HasFamily\"] = 1\n",
    "    df.loc[df[\"SibSp\"]==0,\"HasSibSp\"]=0\n",
    "    df.loc[df[\"Parch\"]==0,\"HasParch\"]=0\n",
    "    df.loc[(df[\"HasSibSp\"]==0)&(df[\"HasParch\"]==0), \"HasFamily\"]=0\n",
    "    \n",
    "    return df\n",
    "\n",
    "\n",
    "train = transform_family_info(train)\n",
    "\n",
    "for col in [\"HasSibSp\",\"HasParch\",\"HasFamily\"]:\n",
    "    plt.figure()\n",
    "    sns.countplot(x=col, data = train, hue=\"Survived\")\n",
    "    plt.title(col)"
   ]
  },
  {
   "cell_type": "markdown",
   "metadata": {},
   "source": [
    "There is a marked difference in survival rates for passengers with no family on board.'HasFamily' will be retained while 'HasSibSp' and 'HasParch' will be dropped as \"Parch\", \"SibSp\" and \"HasFamily\" would provide the same information."
   ]
  },
  {
   "cell_type": "markdown",
   "metadata": {},
   "source": [
    "##### Age\n",
    "From the prelim data analysis, age appears to impact survival likelihood. \n",
    "\n",
    "The 'Name' column contains titles i.e. Mr, Mrs etc. This info may be useful for a differentiated approach in filling missing 'Age' values. For example, \"Master\" was a form of address for younger males in the early 20th century. We would also expect titles such as \"Dr\", \"Col\" and \"Sir\" to refer to more mature passengers.\n",
    "\n",
    "'Title' will be extracted from the \"Name\" column and missing 'Age' values will be filled based on the median of that corresponding title.  This would avoid overestimating 'Age' for certain groups such as 'Master', which tend to have lower age values that are in the range where age has a big impact on survival likelihood."
   ]
  },
  {
   "cell_type": "code",
   "execution_count": 184,
   "metadata": {},
   "outputs": [],
   "source": [
    "train['title'] = train['Name'].apply(lambda x:x.split(',')[1].split('.')[0].strip()) #extract titles from names"
   ]
  },
  {
   "cell_type": "code",
   "execution_count": 185,
   "metadata": {},
   "outputs": [
    {
     "data": {
      "text/plain": [
       "<matplotlib.axes._subplots.AxesSubplot at 0x12249b748>"
      ]
     },
     "execution_count": 185,
     "metadata": {},
     "output_type": "execute_result"
    },
    {
     "data": {
      "image/png": "[encoded data removed]",
      "text/plain": [
       "<Figure size 432x288 with 1 Axes>"
      ]
     },
     "metadata": {},
     "output_type": "display_data"
    }
   ],
   "source": [
    "sns.boxplot(x=\"Age\", y=\"title\", data=train)    "
   ]
  },
  {
   "cell_type": "markdown",
   "metadata": {},
   "source": [
    "The above figure confirms that there is some variation in age distributions for different titles. Missing 'Age' values will therefore be filled using the median age for the corresponding titles."
   ]
  },
  {
   "cell_type": "code",
   "execution_count": 186,
   "metadata": {},
   "outputs": [],
   "source": [
    "age_medians  = train.pivot_table(columns=\"title\", aggfunc='median', values=\"Age\") #create table of medians by title\n",
    "\n",
    "age_medians['overall'] = train['Age'].median() #create an overall median age value. this helps to address missing values in test data which has no or new values for 'title'\n",
    "\n",
    "def fill_age(df): #filling age NAs based with median age based on title, else with overall median age if no such title exists in age_medians\n",
    "    title = df['title'].unique().item()\n",
    "    try:\n",
    "        df['Age'].fillna(age_medians.loc['Age',title], inplace=True)\n",
    "    except:\n",
    "        df['Age'].fillna(age_medians.loc['Age','overall'], inplace=True)\n",
    "    return df\n",
    "\n",
    "train = train.groupby('title').apply(lambda x: fill_age(x))"
   ]
  },
  {
   "cell_type": "markdown",
   "metadata": {},
   "source": [
    "##### Cabin"
   ]
  },
  {
   "cell_type": "markdown",
   "metadata": {},
   "source": [
    "According to [this wikipedia article](https://en.wikipedia.org/wiki/Sinking_of_the_RMS_Titanic#%22Iceberg_right_ahead!%22_(23:39)), the collision happened close to midnight, so most passengers had gone to bed. \"Cabin\" would be a good indication of where each passenger was at the time of collision, which would affect their chances of survival (i.e. access to life boats etc). \n",
    "\n",
    "'Cabin_Deck' and \"Cabin_Number\" can be extracted from \"Cabin\". Furthermore, according to [Titanic deckplans](https://www.encyclopedia-titanica.org/titanic-deckplans/), even-numbered cabins are located on one side of the ship and odd-numbered ones on the other. A 'Cabin_Number_Loc' column will be created to reflect this.\n",
    "\n"
   ]
  },
  {
   "cell_type": "code",
   "execution_count": 187,
   "metadata": {},
   "outputs": [],
   "source": [
    "def get_cabin_info(df):\n",
    "    \n",
    "    #extract Cabin Deck and Number\n",
    "    df['Cabin_Deck']= np.NaN\n",
    "    df['Cabin_Number']= np.NaN\n",
    "    df['Cabin_Number_Loc']= np.NaN\n",
    "    df.loc[~df['Cabin'].isna(),'Cabin_Deck']  = df.loc[~df['Cabin'].isna(),'Cabin'].apply(lambda x:x[0]) #extract alphabet\n",
    "    df.loc[~df['Cabin'].isna(), 'Cabin_Number']  = df.loc[~df['Cabin'].isna(), 'Cabin'].apply(lambda x:x[1:].split(' ')[0]) #retain only first booth number if entries have multiple booths\n",
    "    df['Cabin_Number'] =  pd.to_numeric(df['Cabin_Number'], errors='coerce')\n",
    "    df.loc[df['Cabin_Number']%2==0, 'Cabin_Number_Loc']=\"even\"\n",
    "    df.loc[df['Cabin_Number']%2==1, 'Cabin_Number_Loc']=\"odd\"\n",
    "    \n",
    "    return df\n",
    "\n",
    "train = get_cabin_info(train)"
   ]
  },
  {
   "cell_type": "code",
   "execution_count": 211,
   "metadata": {},
   "outputs": [
    {
     "data": {
      "text/plain": [
       "<matplotlib.axes._subplots.AxesSubplot at 0x122676cc0>"
      ]
     },
     "execution_count": 211,
     "metadata": {},
     "output_type": "execute_result"
    },
    {
     "data": {
      "image/png": "[encoded data removed]",
      "text/plain": [
       "<Figure size 432x288 with 1 Axes>"
      ]
     },
     "metadata": {},
     "output_type": "display_data"
    }
   ],
   "source": [
    "#sns.countplot(x='Cabin_Deck',data=train[~train['Cabin_Deck'].isna()],hue=\"Survived\")\n",
    "sns.countplot(x='Cabin_Deck',data=train[~train['Cabin_Deck'].isna()],hue=\"Survived\")"
   ]
  },
  {
   "cell_type": "code",
   "execution_count": 210,
   "metadata": {},
   "outputs": [],
   "source": [
    "train['Cabin_Deck'] = train['Cabin_Deck'].replace(\"T\",np.NaN) #There is no Deck T"
   ]
  },
  {
   "cell_type": "code",
   "execution_count": 189,
   "metadata": {},
   "outputs": [
    {
     "data": {
      "image/png": "[encoded data removed]",
      "text/plain": [
       "<Figure size 432x288 with 1 Axes>"
      ]
     },
     "metadata": {},
     "output_type": "display_data"
    }
   ],
   "source": [
    "for status in train[\"Survived\"].unique():\n",
    "    plt.hist(x='Cabin_Number',data=train[(train['Survived']==status) & (~train['Cabin_Number'].isna())], alpha=0.5, label=status, bins=30)\n",
    "    plt.title(\"Cabin Number distribution\")\n",
    "    plt.legend(title=\"Survived\")"
   ]
  },
  {
   "cell_type": "code",
   "execution_count": 190,
   "metadata": {},
   "outputs": [
    {
     "data": {
      "text/plain": [
       "<matplotlib.axes._subplots.AxesSubplot at 0x121b24be0>"
      ]
     },
     "execution_count": 190,
     "metadata": {},
     "output_type": "execute_result"
    },
    {
     "data": {
      "image/png": "[encoded data removed]",
      "text/plain": [
       "<Figure size 432x288 with 1 Axes>"
      ]
     },
     "metadata": {},
     "output_type": "display_data"
    }
   ],
   "source": [
    "sns.countplot(x='Cabin_Number_Loc',data=train[~train['Cabin_Number_Loc'].isna()],hue=\"Survived\")"
   ]
  },
  {
   "cell_type": "code",
   "execution_count": 191,
   "metadata": {},
   "outputs": [],
   "source": [
    "train[['Cabin','Cabin_Deck','Cabin_Number','Cabin_Number_Loc']].nunique()\n",
    "\n",
    "for col in ['Cabin','Cabin_Deck','Cabin_Number','Cabin_Number_Loc']:\n",
    "    train[col].fillna(\"U\",inplace=True)\n"
   ]
  },
  {
   "cell_type": "markdown",
   "metadata": {},
   "source": [
    "Cabin location appears to have an impact on survival likelihood. Passengers on G and A Deck appear to be more likely to perish compared to other decks. Passengers with even numbered cabin numbers are also more likely to perish.\n",
    "\n",
    "Unfortunately, over 75% of the cabin values are missing, so this feature will not be used in model training.(Creating a separate category for this group of missing values may impact the accuracy of the model as they would belong to one of the named groups in reality)"
   ]
  },
  {
   "cell_type": "markdown",
   "metadata": {},
   "source": [
    "##### Embarked\n",
    "\n",
    "There were 2 missing values for Embarked, which will be filled with the mode"
   ]
  },
  {
   "cell_type": "code",
   "execution_count": 192,
   "metadata": {},
   "outputs": [],
   "source": [
    "train['Embarked'] = train['Embarked'].fillna(train['Embarked'].mode())"
   ]
  },
  {
   "cell_type": "code",
   "execution_count": 193,
   "metadata": {},
   "outputs": [
    {
     "name": "stdout",
     "output_type": "stream",
     "text": [
      "<class 'pandas.core.frame.DataFrame'>\n",
      "RangeIndex: 891 entries, 0 to 890\n",
      "Data columns (total 19 columns):\n",
      "PassengerId         891 non-null int64\n",
      "Survived            891 non-null object\n",
      "Pclass              891 non-null object\n",
      "Name                891 non-null object\n",
      "Sex                 891 non-null object\n",
      "Age                 891 non-null float64\n",
      "SibSp               891 non-null int64\n",
      "Parch               891 non-null int64\n",
      "Ticket              891 non-null object\n",
      "Fare                891 non-null float64\n",
      "Cabin               891 non-null object\n",
      "Embarked            889 non-null object\n",
      "HasSibSp            891 non-null int64\n",
      "HasParch            891 non-null int64\n",
      "HasFamily           891 non-null int64\n",
      "title               891 non-null object\n",
      "Cabin_Deck          891 non-null object\n",
      "Cabin_Number        891 non-null object\n",
      "Cabin_Number_Loc    891 non-null object\n",
      "dtypes: float64(2), int64(6), object(11)\n",
      "memory usage: 132.3+ KB\n"
     ]
    }
   ],
   "source": [
    "train.info()"
   ]
  },
  {
   "cell_type": "code",
   "execution_count": 194,
   "metadata": {},
   "outputs": [],
   "source": [
    "#Summarizing the data cleaning / preprocessing steps in a single function to facilitate processing of train and test data\n",
    "def preproc(df):\n",
    "    \n",
    "    #fill missing age values\n",
    "    df['title'] = df['Name'].apply(lambda x:x.split(',')[1].split('.')[0].strip()) #extract titles from names\n",
    "    df = df.groupby('title').apply(lambda x: fill_age(x))\n",
    "    \n",
    "    #transform cabin info\n",
    "    df = get_cabin_info(df) \n",
    "    \n",
    "    #change Pclass to categorical var\n",
    "    df['Pclass']=df['Pclass'].astype('str')\n",
    "    \n",
    "    #fill missing Embarked data\n",
    "    df['Embarked'] = df['Embarked'].fillna(df['Embarked'].mode())\n",
    "    \n",
    "    #create categorical SibSp/Parch/Family columns\n",
    "    transform_family_info(df)\n",
    "    \n",
    "    return df\n"
   ]
  },
  {
   "cell_type": "markdown",
   "metadata": {},
   "source": [
    "#### Model Training\n",
    "\n"
   ]
  },
  {
   "cell_type": "code",
   "execution_count": 195,
   "metadata": {},
   "outputs": [],
   "source": [
    "from sklearn.ensemble import RandomForestClassifier, AdaBoostClassifier\n",
    "from sklearn.linear_model import LogisticRegression\n",
    "from sklearn.model_selection import train_test_split\n",
    "from sklearn.metrics import accuracy_score, confusion_matrix\n",
    "from sklearn.model_selection import GridSearchCV, StratifiedKFold"
   ]
  },
  {
   "cell_type": "code",
   "execution_count": 214,
   "metadata": {},
   "outputs": [
    {
     "name": "stdout",
     "output_type": "stream",
     "text": [
      "<class 'pandas.core.frame.DataFrame'>\n",
      "Int64Index: 623 entries, 597 to 836\n",
      "Data columns (total 12 columns):\n",
      "Age           623 non-null float64\n",
      "SibSp         623 non-null int64\n",
      "Parch         623 non-null int64\n",
      "HasFamily     623 non-null int64\n",
      "Sex_female    623 non-null uint8\n",
      "Sex_male      623 non-null uint8\n",
      "Embarked_C    623 non-null uint8\n",
      "Embarked_Q    623 non-null uint8\n",
      "Embarked_S    623 non-null uint8\n",
      "Pclass_1      623 non-null uint8\n",
      "Pclass_2      623 non-null uint8\n",
      "Pclass_3      623 non-null uint8\n",
      "dtypes: float64(1), int64(3), uint8(8)\n",
      "memory usage: 29.2 KB\n"
     ]
    }
   ],
   "source": [
    "X_train, X_test, y_train, y_test = train_test_split(X,y,test_size=0.3, random_state=43)\n",
    "X_train.info()"
   ]
  },
  {
   "cell_type": "markdown",
   "metadata": {},
   "source": [
    "#### Random Forest"
   ]
  },
  {
   "cell_type": "code",
   "execution_count": 217,
   "metadata": {},
   "outputs": [
    {
     "name": "stdout",
     "output_type": "stream",
     "text": [
      "Cross validation score:0.819304152637486\n",
      "Best params:{'criterion': 'entropy', 'min_samples_split': 8, 'n_estimators': 100}\n"
     ]
    }
   ],
   "source": [
    "rf = RandomForestClassifier(random_state=77)\n",
    "\n",
    "params = {'n_estimators': np.arange(50,250,50), 'min_samples_split':np.arange(2,10,2),'criterion':[\"gini\",\"entropy\"]}\n",
    "\n",
    "rf_model_cv = GridSearchCV(rf, params, cv=StratifiedKFold(n_splits = 5, random_state=77), scoring='accuracy')\n",
    "rf_model_cv.fit(X,y)\n",
    "print(\"Cross validation score:{}\".format(rf_model_cv.best_score_))\n",
    "print(\"Best params:{}\".format(rf_model_cv.best_params_))\n"
   ]
  },
  {
   "cell_type": "markdown",
   "metadata": {},
   "source": [
    "#### Logistic Regression"
   ]
  },
  {
   "cell_type": "code",
   "execution_count": 218,
   "metadata": {},
   "outputs": [
    {
     "name": "stdout",
     "output_type": "stream",
     "text": [
      "Cross validation score:0.797979797979798\n",
      "Best params:{'C': 0.30000000000000004}\n"
     ]
    }
   ],
   "source": [
    "log = LogisticRegression(max_iter=500, solver=\"liblinear\")\n",
    "\n",
    "params = {'C':np.linspace(0.1,1,10)}\n",
    "\n",
    "log_model_cv = GridSearchCV(log, params, cv=StratifiedKFold(n_splits=5,random_state=77), scoring = \"accuracy\")\n",
    "log_model_cv.fit(X,y)\n",
    "\n",
    "print(\"Cross validation score:{}\".format(log_model_cv.best_score_))\n",
    "print(\"Best params:{}\".format(log_model_cv.best_params_))"
   ]
  },
  {
   "cell_type": "markdown",
   "metadata": {},
   "source": [
    "The optimized random forest model gives a cross validation score of 82%, higher than that of log regression and will be selected as the final model used to predict on the unlabelled test data\n"
   ]
  },
  {
   "cell_type": "markdown",
   "metadata": {},
   "source": [
    "#### Model Evaluation"
   ]
  },
  {
   "cell_type": "code",
   "execution_count": 219,
   "metadata": {},
   "outputs": [],
   "source": [
    "#Get importances/weights of features \n",
    "feature_importance_rf = pd.Series(rf_model_cv.best_estimator_.feature_importances_, index = X.columns).sort_values(ascending=False)\n",
    "weights_log = pd.Series(log_model_cv.best_estimator_.coef_.transpose()[:,0], index=X.columns).sort_values(ascending=False)\n"
   ]
  },
  {
   "cell_type": "code",
   "execution_count": 220,
   "metadata": {},
   "outputs": [
    {
     "data": {
      "text/plain": [
       "Text(0.5, 1.0, 'Feature Importances for Random Forest Model')"
      ]
     },
     "execution_count": 220,
     "metadata": {},
     "output_type": "execute_result"
    },
    {
     "data": {
      "image/png": "[encoded data removed]",
      "text/plain": [
       "<Figure size 720x576 with 1 Axes>"
      ]
     },
     "metadata": {},
     "output_type": "display_data"
    }
   ],
   "source": [
    "fig, ax = plt.subplots(figsize=(10,8))\n",
    "ypos = np.arange(0,len(feature_importance_rf))[::-1]\n",
    "ax.barh(ypos,feature_importance_rf.values, color='#77B7D8')\n",
    "\n",
    "ax.set_yticks(ypos)\n",
    "ax.set_yticklabels(feature_importance_rf.index)\n",
    "\n",
    "for i,value in zip(ypos, feature_importance_rf.values):\n",
    "    ax.annotate(\"{:.1f}\".format(value*100), xy=(value, i))\n",
    "    \n",
    "plt.title(\"Feature Importances for Random Forest Model\")"
   ]
  },
  {
   "cell_type": "code",
   "execution_count": 221,
   "metadata": {},
   "outputs": [
    {
     "data": {
      "text/plain": [
       "Text(0.5, 1.0, 'Coefficients for Log Regression Model')"
      ]
     },
     "execution_count": 221,
     "metadata": {},
     "output_type": "execute_result"
    },
    {
     "data": {
      "image/png": "[encoded data removed]",
      "text/plain": [
       "<Figure size 720x576 with 1 Axes>"
      ]
     },
     "metadata": {},
     "output_type": "display_data"
    }
   ],
   "source": [
    "fig, ax = plt.subplots(figsize=(10,8))\n",
    "ypos = np.arange(0,len(weights_log))[::-1]\n",
    "\n",
    "positive_weights = weights_log[weights_log>=0]\n",
    "ypos_positive = ypos[weights_log>=0]\n",
    "negative_weights = weights_log[weights_log<0]\n",
    "ypos_negative = ypos[weights_log<=0]\n",
    "ax.barh(ypos_positive,positive_weights, color='#77B7D8')\n",
    "ax.barh(ypos_negative,negative_weights, color='#C16C82')\n",
    "\n",
    "ax.set_yticks(ypos)\n",
    "ax.set_yticklabels(weights_log.index)\n",
    "\n",
    "for i,value in zip(ypos, weights_log.values):\n",
    "    ax.annotate(\"{:.2f}\".format(value), xy=(value, i))\n",
    "    \n",
    "plt.title(\"Coefficients for Log Regression Model\")"
   ]
  },
  {
   "cell_type": "code",
   "execution_count": 222,
   "metadata": {},
   "outputs": [
    {
     "name": "stdout",
     "output_type": "stream",
     "text": [
      "Test Accuracy:\n",
      "[[516  33]\n",
      " [ 63 279]]\n",
      "0.8922558922558923\n"
     ]
    }
   ],
   "source": [
    "# evaluate model on labelled test set\n",
    "y_pred = rf_model_cv.predict(X)\n",
    "print(\"Test Accuracy:\")\n",
    "print(confusion_matrix(y,y_pred))\n",
    "print(accuracy_score(y,y_pred))"
   ]
  },
  {
   "cell_type": "markdown",
   "metadata": {},
   "source": [
    "A simple baseline prediction for would be to assume an outcome based on the mode i.e. did not survive.\n"
   ]
  },
  {
   "cell_type": "code",
   "execution_count": 223,
   "metadata": {},
   "outputs": [
    {
     "name": "stdout",
     "output_type": "stream",
     "text": [
      "Accuracy using baseline prediction (i.e. all perished):\n",
      "61.61616161616162\n"
     ]
    }
   ],
   "source": [
    "print(\"Accuracy using baseline prediction (i.e. all perished):\")\n",
    "print(len(y[y=='0'])*100/len(y)) #actual non-survivors as a fraction of 100% 'did not survive' predictions"
   ]
  },
  {
   "cell_type": "markdown",
   "metadata": {},
   "source": [
    "The trained model does provide an improvement in prediction accuracy of 28%. We would expect the accuracy on the unlabelled test set to be lower."
   ]
  },
  {
   "cell_type": "markdown",
   "metadata": {},
   "source": [
    "#### Conclusions\n",
    "\n",
    "For both models, Pclass and Sex are important predictors. \n",
    "\n",
    "There are pronounced differences in the contribution of 'Age' and 'HasFamily' to the 2 models. 'Age' is the most important feature for RandomForest, whereas it has a relatively small coefficient in the logistic regression model. \"HasFamily\" has a relatively large weighting in the log regression model, whereas it is one of the less important features in random forest\n",
    "\n",
    "Random Forest gave a better cross-validation score and is an ensemble method that would likely generalize better to unseen test data, as multiple estimators are used and predictions are averaged across the estimators. \n",
    "\n",
    "Logistic Regression on the other hand gives a more interpretable result, with the coefficients reflecting whether the features are negatively or positively correlated with survival.\n",
    "\n",
    "For the purpose of maximizing prediction accuracy of unlabelled test set, the Random Forest model will be used. \n"
   ]
  },
  {
   "cell_type": "markdown",
   "metadata": {},
   "source": [
    "#### Predictions on unlabelled test set"
   ]
  },
  {
   "cell_type": "code",
   "execution_count": 224,
   "metadata": {},
   "outputs": [],
   "source": [
    "test = pd.read_csv(\"test.csv\")\n",
    "test_cleaned = preproc(test) #preprocess test data in the same way as train\n",
    "test_cleaned  = test_cleaned[variables]\n",
    "test_cleaned  = pd.get_dummies(test_cleaned , columns=cat_var)\n",
    "\n",
    "\n",
    "def add_missing_dummy_columns(train, test): #ensure test set has same columns as training set\n",
    "    missing_cols = set(train.columns) - set(test.columns) \n",
    "    for c in missing_cols:\n",
    "        test[c] = 0\n",
    "    test = test[train.columns]\n",
    "    return test\n",
    "\n",
    "X_test = add_missing_dummy_columns(X,test_cleaned)\n"
   ]
  },
  {
   "cell_type": "code",
   "execution_count": 225,
   "metadata": {},
   "outputs": [],
   "source": [
    "filename = \"predictions.csv\"\n",
    "\n",
    "predictions = rf_model_cv.predict(X_test) \n",
    "predictions_df = pd.DataFrame({'PassengerId': test['PassengerId'], 'Survived': predictions})\n",
    "predictions_df.to_csv(filename, index=False)"
   ]
  },
  {
   "cell_type": "code",
   "execution_count": null,
   "metadata": {},
   "outputs": [],
   "source": []
  },
  {
   "cell_type": "code",
   "execution_count": null,
   "metadata": {},
   "outputs": [],
   "source": []
  }
 ],
 "metadata": {
  "kernelspec": {
   "display_name": "Python 3",
   "language": "python",
   "name": "python3"
  },
  "language_info": {
   "codemirror_mode": {
    "name": "ipython",
    "version": 3
   },
   "file_extension": ".py",
   "mimetype": "text/x-python",
   "name": "python",
   "nbconvert_exporter": "python",
   "pygments_lexer": "ipython3",
   "version": "3.6.6"
  }
 },
 "nbformat": 4,
 "nbformat_minor": 2
}
