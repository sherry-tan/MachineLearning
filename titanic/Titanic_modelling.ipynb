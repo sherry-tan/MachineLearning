{
 "cells": [
  {
   "cell_type": "markdown",
   "metadata": {},
   "source": [
    "## Predict survival of Titanic passengers (2) - Modelling & Predictions"
   ]
  },
  {
   "cell_type": "markdown",
   "metadata": {},
   "source": [
    "### To summarize, data will be preprocessed before model training:\n",
    "- Extract 'title' from 'Name'\n",
    "- Fill NA values in 'Age' with median age for the corresponding 'title'. For new 'title' not seen in training set, use overall median age\n",
    "- Extract 'Cabin_Deck' from 'Cabin' (May want to exclude this eventually as too may NAs)\n",
    "- Variables such as 'Cabin_Number', 'title', 'Fare', 'Ticket'  and 'Name' will be excluded due to too many missing values or irrelevance\n",
    "- Additional categorical columns of whether passenger had any SibSp or Parch will be created\n",
    "- Fill missing NA values in \"Embarked\" with mode\n"
   ]
  },
  {
   "cell_type": "code",
   "execution_count": 23,
   "metadata": {},
   "outputs": [],
   "source": [
    "import numpy as np\n",
    "import pandas as pd\n",
    "import matplotlib.pyplot as plt"
   ]
  },
  {
   "cell_type": "markdown",
   "metadata": {},
   "source": [
    "### Preprocessing data sets"
   ]
  },
  {
   "cell_type": "code",
   "execution_count": 9,
   "metadata": {},
   "outputs": [],
   "source": [
    "train=pd.read_csv(\"train.csv\")"
   ]
  },
  {
   "cell_type": "code",
   "execution_count": 7,
   "metadata": {},
   "outputs": [],
   "source": [
    "train['title'] = train['Name'].apply(lambda x:x.split(',')[1].split('.')[0].strip()) #extract titles from names"
   ]
  },
  {
   "cell_type": "code",
   "execution_count": 8,
   "metadata": {},
   "outputs": [],
   "source": [
    "age_medians = {} #create dictionary of medians for each title using training set\n",
    "\n",
    "for title in np.unique(train['title']):\n",
    "    age_medians[title] = train['Age'][train['title']==title].median()\n",
    "\n",
    "age_medians['overall'] = train['Age'].median()"
   ]
  },
  {
   "cell_type": "code",
   "execution_count": 73,
   "metadata": {},
   "outputs": [],
   "source": [
    "def fill_age(df): #Fill NAs in \"Age\" based on median age for title. Use overall median age if title is not available in data\n",
    "    title = df['title'].unique().item()\n",
    "    if title in age_medians.keys():\n",
    "        df['Age'] = df['Age'].fillna(age_medians[title])\n",
    "    else:\n",
    "        df['Age'] = df['Age'].fillna(age_medians['overall'])\n",
    "    return df\n",
    "\n",
    "def preproc(df):\n",
    "    \n",
    "    #fill missing age values\n",
    "    df['title'] = df['Name'].apply(lambda x:x.split(',')[1].split('.')[0].strip()) #extract titles from names\n",
    "    df = df.groupby('title').apply(lambda x: fill_age(x))\n",
    "    \n",
    "    #transform cabin info\n",
    "    df['Cabin_Deck']= np.NaN\n",
    "    df['Cabin_Number']=np.NaN\n",
    "    df['Cabin_Deck'][~df['Cabin'].isna()]  = df['Cabin'][~df['Cabin'].isna()].apply(lambda x:x[0])\n",
    "    df['Cabin_Number'][~df['Cabin'].isna()]  = df['Cabin'][~df['Cabin'].isna()].apply(lambda x:x[1:].split(' ')[0]) #retain only first booth number if entries have multiple booths\n",
    "    df['Cabin_Number'] =  pd.to_numeric(df['Cabin_Number'], errors='coerce')\n",
    "    \n",
    "    #change Pclass to categorical var\n",
    "    df['Pclass']=df['Pclass'].astype('str')\n",
    "    \n",
    "    #fill missing Embarked data\n",
    "    df['Embarked'] = df['Embarked'].fillna(df['Embarked'].mode())\n",
    "    \n",
    "    #create categorical SibSp/Parch columns\n",
    "    df[\"HasSibSp\"] = 1\n",
    "    df[\"HasParch\"] = 1\n",
    "    df.loc[df[\"SibSp\"]==0,\"HasSibSp\"]=0\n",
    "    df.loc[df[\"Parch\"]==0,\"HasParch\"]=0\n",
    "    \n",
    "    #include only variables of interest\n",
    "    variables = [\"Pclass\",\"Sex\",\"Age\",\"SibSp\",\"Parch\", \"Embarked\",\"HasSibSp\", \"HasParch\", \"Cabin_Deck\"]\n",
    "    \n",
    "    df = df[variables]\n",
    "    \n",
    "    cat_var = [\"Sex\",\"Embarked\",\"Pclass\", \"Cabin_Deck\"]\n",
    "    \n",
    "    df = pd.get_dummies(df, columns=cat_var)\n",
    "    \n",
    "    return df\n"
   ]
  },
  {
   "cell_type": "code",
   "execution_count": 25,
   "metadata": {},
   "outputs": [
    {
     "name": "stderr",
     "output_type": "stream",
     "text": [
      "/anaconda3/envs/py3/lib/python3.6/site-packages/ipykernel_launcher.py:26: SettingWithCopyWarning: \n",
      "A value is trying to be set on a copy of a slice from a DataFrame\n",
      "\n",
      "See the caveats in the documentation: http://pandas.pydata.org/pandas-docs/stable/indexing.html#indexing-view-versus-copy\n",
      "/anaconda3/envs/py3/lib/python3.6/site-packages/ipykernel_launcher.py:27: SettingWithCopyWarning: \n",
      "A value is trying to be set on a copy of a slice from a DataFrame\n",
      "\n",
      "See the caveats in the documentation: http://pandas.pydata.org/pandas-docs/stable/indexing.html#indexing-view-versus-copy\n"
     ]
    }
   ],
   "source": [
    "X = preproc(train)\n",
    "y = train[\"Survived\"]\n",
    "test = pd.read_csv(\"test.csv\")\n",
    "labels = pd.read_csv(\"gender_submission.csv\")\n",
    "\n",
    "def add_missing_dummy_columns(train, test): #ensure test set has same columns as training set\n",
    "    missing_cols = set(train.columns) - set(test.columns) \n",
    "    for c in missing_cols:\n",
    "        test[c] = 0\n",
    "    test = test[train.columns]\n",
    "    return test"
   ]
  },
  {
   "cell_type": "markdown",
   "metadata": {},
   "source": [
    "### Model training and predictions"
   ]
  },
  {
   "cell_type": "code",
   "execution_count": 13,
   "metadata": {},
   "outputs": [
    {
     "name": "stdout",
     "output_type": "stream",
     "text": [
      "<class 'pandas.core.frame.DataFrame'>\n",
      "RangeIndex: 891 entries, 0 to 890\n",
      "Data columns (total 21 columns):\n",
      "Age             891 non-null float64\n",
      "SibSp           891 non-null int64\n",
      "Parch           891 non-null int64\n",
      "HasSibSp        891 non-null int64\n",
      "HasParch        891 non-null int64\n",
      "Sex_female      891 non-null uint8\n",
      "Sex_male        891 non-null uint8\n",
      "Embarked_C      891 non-null uint8\n",
      "Embarked_Q      891 non-null uint8\n",
      "Embarked_S      891 non-null uint8\n",
      "Cabin_Deck_A    891 non-null uint8\n",
      "Cabin_Deck_B    891 non-null uint8\n",
      "Cabin_Deck_C    891 non-null uint8\n",
      "Cabin_Deck_D    891 non-null uint8\n",
      "Cabin_Deck_E    891 non-null uint8\n",
      "Cabin_Deck_F    891 non-null uint8\n",
      "Cabin_Deck_G    891 non-null uint8\n",
      "Cabin_Deck_T    891 non-null uint8\n",
      "Pclass_1        891 non-null uint8\n",
      "Pclass_2        891 non-null uint8\n",
      "Pclass_3        891 non-null uint8\n",
      "dtypes: float64(1), int64(4), uint8(16)\n",
      "memory usage: 48.8 KB\n"
     ]
    }
   ],
   "source": [
    "from sklearn.ensemble import RandomForestClassifier\n",
    "from sklearn.metrics import accuracy_score\n",
    "from sklearn.model_selection import train_test_split\n",
    "from sklearn.metrics import roc_auc_score, accuracy_score, confusion_matrix, f1_score\n",
    "\n",
    "X.info()"
   ]
  },
  {
   "cell_type": "code",
   "execution_count": 59,
   "metadata": {},
   "outputs": [],
   "source": [
    "X_train, X_test, y_train, y_test = train_test_split(X,y,test_size=0.3, random_state=101)"
   ]
  },
  {
   "cell_type": "code",
   "execution_count": 60,
   "metadata": {},
   "outputs": [
    {
     "name": "stdout",
     "output_type": "stream",
     "text": [
      "Training accuracy is :0.9438202247191011\n",
      "Test accuracy is :0.7611940298507462\n"
     ]
    }
   ],
   "source": [
    "rf_model = RandomForestClassifier()\n",
    "rf_model.fit(X_train,y_train)\n",
    "train_predictions = rf_model.predict(X_train)\n",
    "\n",
    "print(\"Training accuracy is :{}\".format(accuracy_score(y_train,train_predictions)))\n",
    "print(\"Test accuracy is :{}\".format(accuracy_score(y_test,rf_model.predict(X_test))))"
   ]
  },
  {
   "cell_type": "code",
   "execution_count": 61,
   "metadata": {},
   "outputs": [],
   "source": [
    "n_estimators = [1, 2, 4, 8, 16, 32, 64, 100, 200]\n",
    "scores = []\n",
    "for n in n_estimators:\n",
    "    rf_model = RandomForestClassifier(n_estimators = n)\n",
    "    rf_model.fit(X_train,y_train)\n",
    "    predictions = rf_model.predict(X_test)\n",
    "    scores.append(accuracy_score(y_test,predictions))"
   ]
  },
  {
   "cell_type": "code",
   "execution_count": 62,
   "metadata": {},
   "outputs": [
    {
     "name": "stdout",
     "output_type": "stream",
     "text": [
      "1 estimators: score0.746268656716418\n",
      "2 estimators: score0.7238805970149254\n",
      "4 estimators: score0.7611940298507462\n",
      "8 estimators: score0.7910447761194029\n",
      "16 estimators: score0.7611940298507462\n",
      "32 estimators: score0.7686567164179104\n",
      "64 estimators: score0.7574626865671642\n",
      "100 estimators: score0.7723880597014925\n",
      "200 estimators: score0.7686567164179104\n"
     ]
    }
   ],
   "source": [
    "for n,score in zip(n_estimators,scores):\n",
    "    print(\"{} estimators: score{}\".format(n,score))"
   ]
  },
  {
   "cell_type": "code",
   "execution_count": 24,
   "metadata": {},
   "outputs": [
    {
     "data": {
      "text/plain": [
       "[<matplotlib.lines.Line2D at 0x1223178d0>]"
      ]
     },
     "execution_count": 24,
     "metadata": {},
     "output_type": "execute_result"
    },
    {
     "data": {
      "image/png": "[encoded data removed]",
      "text/plain": [
       "<Figure size 432x288 with 1 Axes>"
      ]
     },
     "metadata": {},
     "output_type": "display_data"
    }
   ],
   "source": [
    "plt.plot(n_estimators, scores)"
   ]
  },
  {
   "cell_type": "code",
   "execution_count": 28,
   "metadata": {},
   "outputs": [],
   "source": [
    "def make_predictions(test,model,train,filename):\n",
    "    test_cleaned = preproc(test)\n",
    "    test_cleaned  = add_missing_dummy_columns(train, test_cleaned)\n",
    "    predictions = model.predict(test_cleaned)\n",
    "    predictions_df = pd.concat([test['PassengerId'],pd.DataFrame(predictions)], axis=1)\n",
    "    predictions_df.columns = [\"PassengerId\",\"Survived\"]\n",
    "    predictions_df.to_csv(filename, index=False)\n",
    "    return predictions_df\n",
    "\n",
    "def score_predictions(predictions, labels):\n",
    "    print(\"Accuracy is {}\".format(accuracy_score(labels[\"Survived\"],predictions[\"Survived\"])))\n",
    "    print(\"ROC AUC Score is {}\".format(roc_auc_score(labels[\"Survived\"],predictions[\"Survived\"])))\n",
    "    print(\"F1 Score is {}\".format(f1_score(labels[\"Survived\"],predictions[\"Survived\"])))\n",
    "    print(\"Confusion matrix:\\n{}\".format(confusion_matrix(labels[\"Survived\"],predictions[\"Survived\"])))\n",
    "   "
   ]
  },
  {
   "cell_type": "code",
   "execution_count": 63,
   "metadata": {},
   "outputs": [],
   "source": [
    "rf_model = RandomForestClassifier(n_estimators = 8)\n",
    "rf_model.fit(X,y)\n",
    "predictions = make_predictions(test,rf_model,X,'submission_rf_without_cv.csv')"
   ]
  },
  {
   "cell_type": "code",
   "execution_count": 64,
   "metadata": {},
   "outputs": [
    {
     "name": "stdout",
     "output_type": "stream",
     "text": [
      "Accuracy is 0.7966507177033493\n",
      "ROC AUC Score is 0.7838345864661654\n",
      "F1 Score is 0.7249190938511326\n",
      "Confusion matrix:\n",
      "[[221  45]\n",
      " [ 40 112]]\n"
     ]
    }
   ],
   "source": [
    "score_predictions(predictions, labels)"
   ]
  },
  {
   "cell_type": "markdown",
   "metadata": {},
   "source": [
    "#### use cross validation since training set is small"
   ]
  },
  {
   "cell_type": "code",
   "execution_count": 31,
   "metadata": {},
   "outputs": [],
   "source": [
    "from sklearn.model_selection import GridSearchCV\n",
    "from sklearn.model_selection import StratifiedKFold"
   ]
  },
  {
   "cell_type": "markdown",
   "metadata": {},
   "source": [
    "#### Random Forest"
   ]
  },
  {
   "cell_type": "code",
   "execution_count": 66,
   "metadata": {},
   "outputs": [
    {
     "name": "stdout",
     "output_type": "stream",
     "text": [
      "0.8226711560044894\n",
      "{'criterion': 'gini', 'min_samples_split': 40, 'n_estimators': 500}\n"
     ]
    }
   ],
   "source": [
    "rf = RandomForestClassifier()\n",
    "params = {'n_estimators': [100, 200,300,400,500], 'min_samples_split':np.arange(10,50,10),'criterion':[\"gini\",\"entropy\"]}\n",
    "rf_model = GridSearchCV(rf, params, cv=StratifiedKFold(n_splits = 5, random_state=77), scoring='accuracy')\n",
    "rf_model.fit(X,y)\n",
    "print(rf_model.best_score_)\n",
    "print(rf_model.best_params_)\n",
    "predictions = make_predictions(test,rf_model.best_estimator_,X,\"rf_cv.csv\")"
   ]
  },
  {
   "cell_type": "code",
   "execution_count": 67,
   "metadata": {},
   "outputs": [
    {
     "name": "stdout",
     "output_type": "stream",
     "text": [
      "Accuracy is 0.937799043062201\n",
      "ROC AUC Score is 0.9215225563909775\n",
      "F1 Score is 0.9097222222222222\n",
      "Confusion matrix:\n",
      "[[261   5]\n",
      " [ 21 131]]\n"
     ]
    }
   ],
   "source": [
    "score_predictions(predictions, labels)"
   ]
  },
  {
   "cell_type": "code",
   "execution_count": 68,
   "metadata": {},
   "outputs": [
    {
     "name": "stdout",
     "output_type": "stream",
     "text": [
      "Age\n",
      "0.11459293158398659\n",
      "SibSp\n",
      "0.026074525503552624\n",
      "Parch\n",
      "0.02315825184959291\n",
      "HasSibSp\n",
      "0.00974410157262381\n",
      "HasParch\n",
      "0.014627038212408985\n",
      "Sex_female\n",
      "0.26600117138176543\n",
      "Sex_male\n",
      "0.26902152380024935\n",
      "Embarked_C\n",
      "0.012806425230384685\n",
      "Embarked_Q\n",
      "0.008697730215949358\n",
      "Embarked_S\n",
      "0.01732895957513753\n",
      "Cabin_Deck_A\n",
      "0.0027191804594443917\n",
      "Cabin_Deck_B\n",
      "0.01134262800295651\n",
      "Cabin_Deck_C\n",
      "0.005301531312088184\n",
      "Cabin_Deck_D\n",
      "0.012451720276324253\n",
      "Cabin_Deck_E\n",
      "0.021165561787058144\n",
      "Cabin_Deck_F\n",
      "0.0029796673244831136\n",
      "Cabin_Deck_G\n",
      "0.0011098398683148157\n",
      "Cabin_Deck_T\n",
      "0.0002144550030378344\n",
      "Pclass_1\n",
      "0.06609153206621701\n",
      "Pclass_2\n",
      "0.025515788385650835\n",
      "Pclass_3\n",
      "0.08905543658877357\n"
     ]
    }
   ],
   "source": [
    "for i, feature in enumerate(rf_model.best_estimator_.feature_importances_):\n",
    "    print(X.columns[i])\n",
    "    print(feature)"
   ]
  },
  {
   "cell_type": "markdown",
   "metadata": {},
   "source": [
    "#### AdaBoost"
   ]
  },
  {
   "cell_type": "code",
   "execution_count": 36,
   "metadata": {},
   "outputs": [
    {
     "name": "stdout",
     "output_type": "stream",
     "text": [
      "0.8249158249158249\n",
      "{'learning_rate': 0.5714285714285714, 'n_estimators': 140}\n"
     ]
    },
    {
     "name": "stderr",
     "output_type": "stream",
     "text": [
      "/anaconda3/envs/py3/lib/python3.6/site-packages/ipykernel_launcher.py:26: SettingWithCopyWarning: \n",
      "A value is trying to be set on a copy of a slice from a DataFrame\n",
      "\n",
      "See the caveats in the documentation: http://pandas.pydata.org/pandas-docs/stable/indexing.html#indexing-view-versus-copy\n",
      "/anaconda3/envs/py3/lib/python3.6/site-packages/ipykernel_launcher.py:27: SettingWithCopyWarning: \n",
      "A value is trying to be set on a copy of a slice from a DataFrame\n",
      "\n",
      "See the caveats in the documentation: http://pandas.pydata.org/pandas-docs/stable/indexing.html#indexing-view-versus-copy\n"
     ]
    }
   ],
   "source": [
    "from sklearn.ensemble import AdaBoostClassifier\n",
    "\n",
    "adb = AdaBoostClassifier()\n",
    "params = {'n_estimators': np.arange(50,150,10), 'learning_rate' :np.linspace(0.5,1,15)}\n",
    "adb_model = GridSearchCV(adb, params, cv=StratifiedKFold(n_splits=5,random_state=77), scoring = \"accuracy\")\n",
    "adb_model.fit(X,y)\n",
    "print(adb_model.best_score_)\n",
    "print(adb_model.best_params_)\n",
    "adb_pred=make_predictions(test,adb_model,X,\"adb_cv.csv\")"
   ]
  },
  {
   "cell_type": "code",
   "execution_count": 37,
   "metadata": {},
   "outputs": [
    {
     "name": "stdout",
     "output_type": "stream",
     "text": [
      "Accuracy is 0.8995215311004785\n",
      "ROC AUC Score is 0.9041353383458647\n",
      "F1 Score is 0.8695652173913043\n",
      "Confusion matrix:\n",
      "[[236  30]\n",
      " [ 12 140]]\n"
     ]
    }
   ],
   "source": [
    "score_predictions(adb_pred, labels)"
   ]
  },
  {
   "cell_type": "markdown",
   "metadata": {},
   "source": [
    "#### XGBoost"
   ]
  },
  {
   "cell_type": "code",
   "execution_count": 71,
   "metadata": {},
   "outputs": [
    {
     "name": "stdout",
     "output_type": "stream",
     "text": [
      "0.8428731762065096\n",
      "{'learning_rate': 0.09000000000000001, 'n_estimators': 60, 'reg_lambda': 0.4444444444444444}\n"
     ]
    }
   ],
   "source": [
    "import warnings\n",
    "warnings.filterwarnings(\"ignore\")\n",
    "from xgboost import XGBClassifier\n",
    "\n",
    "learning_rate = np.linspace(0.01,0.1,10)\n",
    "n_estimators=np.arange(20,100,20)\n",
    "reg_lambda=np.linspace(0,1,10)\n",
    "\n",
    "xgb = XGBClassifier()\n",
    "\n",
    "params = {'n_estimators':n_estimators, \n",
    "          'learning_rate':learning_rate,\n",
    "         'reg_lambda':reg_lambda}\n",
    "\n",
    "xgb_model = GridSearchCV(xgb, params, cv=StratifiedKFold(n_splits=5,random_state=77), scoring = \"accuracy\")\n",
    "\n",
    "xgb_model.fit(X,y)\n",
    "print(xgb_model.best_score_)\n",
    "print(xgb_model.best_params_)\n",
    "xgb_pred = make_predictions(test,xgb_model,X,\"xgb_cv.csv\")"
   ]
  },
  {
   "cell_type": "code",
   "execution_count": 72,
   "metadata": {},
   "outputs": [
    {
     "name": "stdout",
     "output_type": "stream",
     "text": [
      "Accuracy is 0.8803827751196173\n",
      "ROC AUC Score is 0.8538533834586466\n",
      "F1 Score is 0.8214285714285714\n",
      "Confusion matrix:\n",
      "[[253  13]\n",
      " [ 37 115]]\n"
     ]
    }
   ],
   "source": [
    "score_predictions(xgb_pred, labels)"
   ]
  },
  {
   "cell_type": "markdown",
   "metadata": {},
   "source": [
    "#### SVC"
   ]
  },
  {
   "cell_type": "code",
   "execution_count": 69,
   "metadata": {},
   "outputs": [
    {
     "name": "stdout",
     "output_type": "stream",
     "text": [
      "0.8181818181818182\n",
      "{'C': 0.775, 'kernel': 'rbf'}\n"
     ]
    }
   ],
   "source": [
    "from sklearn.svm import SVC\n",
    "\n",
    "C = np.linspace(0.1,1,5)\n",
    "kernels = ['linear', 'rbf', 'sigmoid']\n",
    "\n",
    "svc = SVC()\n",
    "\n",
    "params = {'C':C, \n",
    "          'kernel':kernels}\n",
    "\n",
    "svc_model = GridSearchCV(svc, params, cv=StratifiedKFold(n_splits=5,random_state=77), scoring = \"accuracy\")\n",
    "\n",
    "svc_model.fit(X,y)\n",
    "print(svc_model.best_score_)\n",
    "print(svc_model.best_params_)\n",
    "svc_pred = make_predictions(test,svc_model,X,\"svc_cv.csv\")"
   ]
  },
  {
   "cell_type": "code",
   "execution_count": 42,
   "metadata": {},
   "outputs": [
    {
     "name": "stdout",
     "output_type": "stream",
     "text": [
      "Accuracy is 0.9330143540669856\n",
      "ROC AUC Score is 0.9304511278195489\n",
      "F1 Score is 0.9090909090909091\n",
      "Confusion matrix:\n",
      "[[250  16]\n",
      " [ 12 140]]\n"
     ]
    }
   ],
   "source": [
    "score_predictions(svc_pred, labels)"
   ]
  },
  {
   "cell_type": "markdown",
   "metadata": {},
   "source": [
    "#### Log regression"
   ]
  },
  {
   "cell_type": "code",
   "execution_count": 70,
   "metadata": {},
   "outputs": [
    {
     "name": "stdout",
     "output_type": "stream",
     "text": [
      "0.8103254769921436\n",
      "{'C': 0.5}\n"
     ]
    }
   ],
   "source": [
    "from sklearn.linear_model import LogisticRegression\n",
    "\n",
    "C = np.linspace(0.1,1,10)\n",
    "log = LogisticRegression()\n",
    "\n",
    "params = {'C':C}\n",
    "\n",
    "log_model = GridSearchCV(log, params, cv=StratifiedKFold(n_splits=5,random_state=77), scoring = \"accuracy\")\n",
    "\n",
    "log_model.fit(X,y)\n",
    "print(log_model.best_score_)\n",
    "print(log_model.best_params_)\n",
    "log_pred = make_predictions(test,svc_model,X,\"log_cv.csv\")"
   ]
  },
  {
   "cell_type": "code",
   "execution_count": 44,
   "metadata": {},
   "outputs": [
    {
     "name": "stdout",
     "output_type": "stream",
     "text": [
      "Accuracy is 0.9330143540669856\n",
      "ROC AUC Score is 0.9304511278195489\n",
      "F1 Score is 0.9090909090909091\n",
      "Confusion matrix:\n",
      "[[250  16]\n",
      " [ 12 140]]\n"
     ]
    }
   ],
   "source": [
    "score_predictions(log_pred, labels)"
   ]
  },
  {
   "cell_type": "code",
   "execution_count": 45,
   "metadata": {},
   "outputs": [
    {
     "data": {
      "text/html": [
       "<div>\n",
       "<style scoped>\n",
       "    .dataframe tbody tr th:only-of-type {\n",
       "        vertical-align: middle;\n",
       "    }\n",
       "\n",
       "    .dataframe tbody tr th {\n",
       "        vertical-align: top;\n",
       "    }\n",
       "\n",
       "    .dataframe thead th {\n",
       "        text-align: right;\n",
       "    }\n",
       "</style>\n",
       "<table border=\"1\" class=\"dataframe\">\n",
       "  <thead>\n",
       "    <tr style=\"text-align: right;\">\n",
       "      <th></th>\n",
       "      <th>Age</th>\n",
       "      <th>SibSp</th>\n",
       "      <th>Parch</th>\n",
       "      <th>HasSibSp</th>\n",
       "      <th>HasParch</th>\n",
       "      <th>Sex_female</th>\n",
       "      <th>Sex_male</th>\n",
       "      <th>Embarked_C</th>\n",
       "      <th>Embarked_Q</th>\n",
       "      <th>Embarked_S</th>\n",
       "      <th>...</th>\n",
       "      <th>Cabin_Deck_B</th>\n",
       "      <th>Cabin_Deck_C</th>\n",
       "      <th>Cabin_Deck_D</th>\n",
       "      <th>Cabin_Deck_E</th>\n",
       "      <th>Cabin_Deck_F</th>\n",
       "      <th>Cabin_Deck_G</th>\n",
       "      <th>Cabin_Deck_T</th>\n",
       "      <th>Pclass_1</th>\n",
       "      <th>Pclass_2</th>\n",
       "      <th>Pclass_3</th>\n",
       "    </tr>\n",
       "  </thead>\n",
       "  <tbody>\n",
       "    <tr>\n",
       "      <th>count</th>\n",
       "      <td>891.000000</td>\n",
       "      <td>891.000000</td>\n",
       "      <td>891.000000</td>\n",
       "      <td>891.000000</td>\n",
       "      <td>891.000000</td>\n",
       "      <td>891.000000</td>\n",
       "      <td>891.000000</td>\n",
       "      <td>891.000000</td>\n",
       "      <td>891.000000</td>\n",
       "      <td>891.000000</td>\n",
       "      <td>...</td>\n",
       "      <td>891.000000</td>\n",
       "      <td>891.000000</td>\n",
       "      <td>891.000000</td>\n",
       "      <td>891.000000</td>\n",
       "      <td>891.000000</td>\n",
       "      <td>891.000000</td>\n",
       "      <td>891.000000</td>\n",
       "      <td>891.000000</td>\n",
       "      <td>891.000000</td>\n",
       "      <td>891.000000</td>\n",
       "    </tr>\n",
       "    <tr>\n",
       "      <th>mean</th>\n",
       "      <td>29.390202</td>\n",
       "      <td>0.523008</td>\n",
       "      <td>0.381594</td>\n",
       "      <td>0.317621</td>\n",
       "      <td>0.239057</td>\n",
       "      <td>0.352413</td>\n",
       "      <td>0.647587</td>\n",
       "      <td>0.188552</td>\n",
       "      <td>0.086420</td>\n",
       "      <td>0.722783</td>\n",
       "      <td>...</td>\n",
       "      <td>0.052750</td>\n",
       "      <td>0.066218</td>\n",
       "      <td>0.037037</td>\n",
       "      <td>0.035915</td>\n",
       "      <td>0.014590</td>\n",
       "      <td>0.004489</td>\n",
       "      <td>0.001122</td>\n",
       "      <td>0.242424</td>\n",
       "      <td>0.206510</td>\n",
       "      <td>0.551066</td>\n",
       "    </tr>\n",
       "    <tr>\n",
       "      <th>std</th>\n",
       "      <td>13.265322</td>\n",
       "      <td>1.102743</td>\n",
       "      <td>0.806057</td>\n",
       "      <td>0.465813</td>\n",
       "      <td>0.426747</td>\n",
       "      <td>0.477990</td>\n",
       "      <td>0.477990</td>\n",
       "      <td>0.391372</td>\n",
       "      <td>0.281141</td>\n",
       "      <td>0.447876</td>\n",
       "      <td>...</td>\n",
       "      <td>0.223659</td>\n",
       "      <td>0.248802</td>\n",
       "      <td>0.188959</td>\n",
       "      <td>0.186182</td>\n",
       "      <td>0.119973</td>\n",
       "      <td>0.066890</td>\n",
       "      <td>0.033501</td>\n",
       "      <td>0.428790</td>\n",
       "      <td>0.405028</td>\n",
       "      <td>0.497665</td>\n",
       "    </tr>\n",
       "    <tr>\n",
       "      <th>min</th>\n",
       "      <td>0.420000</td>\n",
       "      <td>0.000000</td>\n",
       "      <td>0.000000</td>\n",
       "      <td>0.000000</td>\n",
       "      <td>0.000000</td>\n",
       "      <td>0.000000</td>\n",
       "      <td>0.000000</td>\n",
       "      <td>0.000000</td>\n",
       "      <td>0.000000</td>\n",
       "      <td>0.000000</td>\n",
       "      <td>...</td>\n",
       "      <td>0.000000</td>\n",
       "      <td>0.000000</td>\n",
       "      <td>0.000000</td>\n",
       "      <td>0.000000</td>\n",
       "      <td>0.000000</td>\n",
       "      <td>0.000000</td>\n",
       "      <td>0.000000</td>\n",
       "      <td>0.000000</td>\n",
       "      <td>0.000000</td>\n",
       "      <td>0.000000</td>\n",
       "    </tr>\n",
       "    <tr>\n",
       "      <th>25%</th>\n",
       "      <td>21.000000</td>\n",
       "      <td>0.000000</td>\n",
       "      <td>0.000000</td>\n",
       "      <td>0.000000</td>\n",
       "      <td>0.000000</td>\n",
       "      <td>0.000000</td>\n",
       "      <td>0.000000</td>\n",
       "      <td>0.000000</td>\n",
       "      <td>0.000000</td>\n",
       "      <td>0.000000</td>\n",
       "      <td>...</td>\n",
       "      <td>0.000000</td>\n",
       "      <td>0.000000</td>\n",
       "      <td>0.000000</td>\n",
       "      <td>0.000000</td>\n",
       "      <td>0.000000</td>\n",
       "      <td>0.000000</td>\n",
       "      <td>0.000000</td>\n",
       "      <td>0.000000</td>\n",
       "      <td>0.000000</td>\n",
       "      <td>0.000000</td>\n",
       "    </tr>\n",
       "    <tr>\n",
       "      <th>50%</th>\n",
       "      <td>30.000000</td>\n",
       "      <td>0.000000</td>\n",
       "      <td>0.000000</td>\n",
       "      <td>0.000000</td>\n",
       "      <td>0.000000</td>\n",
       "      <td>0.000000</td>\n",
       "      <td>1.000000</td>\n",
       "      <td>0.000000</td>\n",
       "      <td>0.000000</td>\n",
       "      <td>1.000000</td>\n",
       "      <td>...</td>\n",
       "      <td>0.000000</td>\n",
       "      <td>0.000000</td>\n",
       "      <td>0.000000</td>\n",
       "      <td>0.000000</td>\n",
       "      <td>0.000000</td>\n",
       "      <td>0.000000</td>\n",
       "      <td>0.000000</td>\n",
       "      <td>0.000000</td>\n",
       "      <td>0.000000</td>\n",
       "      <td>1.000000</td>\n",
       "    </tr>\n",
       "    <tr>\n",
       "      <th>75%</th>\n",
       "      <td>35.000000</td>\n",
       "      <td>1.000000</td>\n",
       "      <td>0.000000</td>\n",
       "      <td>1.000000</td>\n",
       "      <td>0.000000</td>\n",
       "      <td>1.000000</td>\n",
       "      <td>1.000000</td>\n",
       "      <td>0.000000</td>\n",
       "      <td>0.000000</td>\n",
       "      <td>1.000000</td>\n",
       "      <td>...</td>\n",
       "      <td>0.000000</td>\n",
       "      <td>0.000000</td>\n",
       "      <td>0.000000</td>\n",
       "      <td>0.000000</td>\n",
       "      <td>0.000000</td>\n",
       "      <td>0.000000</td>\n",
       "      <td>0.000000</td>\n",
       "      <td>0.000000</td>\n",
       "      <td>0.000000</td>\n",
       "      <td>1.000000</td>\n",
       "    </tr>\n",
       "    <tr>\n",
       "      <th>max</th>\n",
       "      <td>80.000000</td>\n",
       "      <td>8.000000</td>\n",
       "      <td>6.000000</td>\n",
       "      <td>1.000000</td>\n",
       "      <td>1.000000</td>\n",
       "      <td>1.000000</td>\n",
       "      <td>1.000000</td>\n",
       "      <td>1.000000</td>\n",
       "      <td>1.000000</td>\n",
       "      <td>1.000000</td>\n",
       "      <td>...</td>\n",
       "      <td>1.000000</td>\n",
       "      <td>1.000000</td>\n",
       "      <td>1.000000</td>\n",
       "      <td>1.000000</td>\n",
       "      <td>1.000000</td>\n",
       "      <td>1.000000</td>\n",
       "      <td>1.000000</td>\n",
       "      <td>1.000000</td>\n",
       "      <td>1.000000</td>\n",
       "      <td>1.000000</td>\n",
       "    </tr>\n",
       "  </tbody>\n",
       "</table>\n",
       "<p>8 rows × 21 columns</p>\n",
       "</div>"
      ],
      "text/plain": [
       "              Age       SibSp       Parch    HasSibSp    HasParch  Sex_female  \\\n",
       "count  891.000000  891.000000  891.000000  891.000000  891.000000  891.000000   \n",
       "mean    29.390202    0.523008    0.381594    0.317621    0.239057    0.352413   \n",
       "std     13.265322    1.102743    0.806057    0.465813    0.426747    0.477990   \n",
       "min      0.420000    0.000000    0.000000    0.000000    0.000000    0.000000   \n",
       "25%     21.000000    0.000000    0.000000    0.000000    0.000000    0.000000   \n",
       "50%     30.000000    0.000000    0.000000    0.000000    0.000000    0.000000   \n",
       "75%     35.000000    1.000000    0.000000    1.000000    0.000000    1.000000   \n",
       "max     80.000000    8.000000    6.000000    1.000000    1.000000    1.000000   \n",
       "\n",
       "         Sex_male  Embarked_C  Embarked_Q  Embarked_S     ...      \\\n",
       "count  891.000000  891.000000  891.000000  891.000000     ...       \n",
       "mean     0.647587    0.188552    0.086420    0.722783     ...       \n",
       "std      0.477990    0.391372    0.281141    0.447876     ...       \n",
       "min      0.000000    0.000000    0.000000    0.000000     ...       \n",
       "25%      0.000000    0.000000    0.000000    0.000000     ...       \n",
       "50%      1.000000    0.000000    0.000000    1.000000     ...       \n",
       "75%      1.000000    0.000000    0.000000    1.000000     ...       \n",
       "max      1.000000    1.000000    1.000000    1.000000     ...       \n",
       "\n",
       "       Cabin_Deck_B  Cabin_Deck_C  Cabin_Deck_D  Cabin_Deck_E  Cabin_Deck_F  \\\n",
       "count    891.000000    891.000000    891.000000    891.000000    891.000000   \n",
       "mean       0.052750      0.066218      0.037037      0.035915      0.014590   \n",
       "std        0.223659      0.248802      0.188959      0.186182      0.119973   \n",
       "min        0.000000      0.000000      0.000000      0.000000      0.000000   \n",
       "25%        0.000000      0.000000      0.000000      0.000000      0.000000   \n",
       "50%        0.000000      0.000000      0.000000      0.000000      0.000000   \n",
       "75%        0.000000      0.000000      0.000000      0.000000      0.000000   \n",
       "max        1.000000      1.000000      1.000000      1.000000      1.000000   \n",
       "\n",
       "       Cabin_Deck_G  Cabin_Deck_T    Pclass_1    Pclass_2    Pclass_3  \n",
       "count    891.000000    891.000000  891.000000  891.000000  891.000000  \n",
       "mean       0.004489      0.001122    0.242424    0.206510    0.551066  \n",
       "std        0.066890      0.033501    0.428790    0.405028    0.497665  \n",
       "min        0.000000      0.000000    0.000000    0.000000    0.000000  \n",
       "25%        0.000000      0.000000    0.000000    0.000000    0.000000  \n",
       "50%        0.000000      0.000000    0.000000    0.000000    1.000000  \n",
       "75%        0.000000      0.000000    0.000000    0.000000    1.000000  \n",
       "max        1.000000      1.000000    1.000000    1.000000    1.000000  \n",
       "\n",
       "[8 rows x 21 columns]"
      ]
     },
     "execution_count": 45,
     "metadata": {},
     "output_type": "execute_result"
    }
   ],
   "source": [
    "X.describe()"
   ]
  },
  {
   "cell_type": "code",
   "execution_count": null,
   "metadata": {},
   "outputs": [],
   "source": []
  }
 ],
 "metadata": {
  "kernelspec": {
   "display_name": "Python 3",
   "language": "python",
   "name": "python3"
  },
  "language_info": {
   "codemirror_mode": {
    "name": "ipython",
    "version": 3
   },
   "file_extension": ".py",
   "mimetype": "text/x-python",
   "name": "python",
   "nbconvert_exporter": "python",
   "pygments_lexer": "ipython3",
   "version": "3.6.6"
  }
 },
 "nbformat": 4,
 "nbformat_minor": 2
}
