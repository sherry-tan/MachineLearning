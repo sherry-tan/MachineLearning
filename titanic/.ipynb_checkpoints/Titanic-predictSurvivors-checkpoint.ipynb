{
 "cells": [
  {
   "cell_type": "markdown",
   "metadata": {},
   "source": [
    "## Titanic - predicting survivors"
   ]
  },
  {
   "cell_type": "code",
   "execution_count": 1,
   "metadata": {},
   "outputs": [],
   "source": [
    "import numpy as np\n",
    "import pandas as pd\n",
    "import matplotlib.pyplot as plt\n",
    "import seaborn as sns\n",
    "\n",
    "%matplotlib inline"
   ]
  },
  {
   "cell_type": "code",
   "execution_count": 2,
   "metadata": {},
   "outputs": [],
   "source": [
    "train = pd.read_csv(\"train.csv\")"
   ]
  },
  {
   "cell_type": "markdown",
   "metadata": {},
   "source": [
    "### Exploratory data analysis"
   ]
  },
  {
   "cell_type": "code",
   "execution_count": 3,
   "metadata": {},
   "outputs": [
    {
     "name": "stdout",
     "output_type": "stream",
     "text": [
      "<class 'pandas.core.frame.DataFrame'>\n",
      "RangeIndex: 891 entries, 0 to 890\n",
      "Data columns (total 12 columns):\n",
      "PassengerId    891 non-null int64\n",
      "Survived       891 non-null int64\n",
      "Pclass         891 non-null int64\n",
      "Name           891 non-null object\n",
      "Sex            891 non-null object\n",
      "Age            714 non-null float64\n",
      "SibSp          891 non-null int64\n",
      "Parch          891 non-null int64\n",
      "Ticket         891 non-null object\n",
      "Fare           891 non-null float64\n",
      "Cabin          204 non-null object\n",
      "Embarked       889 non-null object\n",
      "dtypes: float64(2), int64(5), object(5)\n",
      "memory usage: 83.6+ KB\n"
     ]
    }
   ],
   "source": [
    "train.info()"
   ]
  },
  {
   "cell_type": "code",
   "execution_count": 4,
   "metadata": {},
   "outputs": [
    {
     "data": {
      "text/html": [
       "<div>\n",
       "<style scoped>\n",
       "    .dataframe tbody tr th:only-of-type {\n",
       "        vertical-align: middle;\n",
       "    }\n",
       "\n",
       "    .dataframe tbody tr th {\n",
       "        vertical-align: top;\n",
       "    }\n",
       "\n",
       "    .dataframe thead th {\n",
       "        text-align: right;\n",
       "    }\n",
       "</style>\n",
       "<table border=\"1\" class=\"dataframe\">\n",
       "  <thead>\n",
       "    <tr style=\"text-align: right;\">\n",
       "      <th></th>\n",
       "      <th>PassengerId</th>\n",
       "      <th>Survived</th>\n",
       "      <th>Pclass</th>\n",
       "      <th>Age</th>\n",
       "      <th>SibSp</th>\n",
       "      <th>Parch</th>\n",
       "      <th>Fare</th>\n",
       "    </tr>\n",
       "  </thead>\n",
       "  <tbody>\n",
       "    <tr>\n",
       "      <th>count</th>\n",
       "      <td>891.000000</td>\n",
       "      <td>891.000000</td>\n",
       "      <td>891.000000</td>\n",
       "      <td>714.000000</td>\n",
       "      <td>891.000000</td>\n",
       "      <td>891.000000</td>\n",
       "      <td>891.000000</td>\n",
       "    </tr>\n",
       "    <tr>\n",
       "      <th>mean</th>\n",
       "      <td>446.000000</td>\n",
       "      <td>0.383838</td>\n",
       "      <td>2.308642</td>\n",
       "      <td>29.699118</td>\n",
       "      <td>0.523008</td>\n",
       "      <td>0.381594</td>\n",
       "      <td>32.204208</td>\n",
       "    </tr>\n",
       "    <tr>\n",
       "      <th>std</th>\n",
       "      <td>257.353842</td>\n",
       "      <td>0.486592</td>\n",
       "      <td>0.836071</td>\n",
       "      <td>14.526497</td>\n",
       "      <td>1.102743</td>\n",
       "      <td>0.806057</td>\n",
       "      <td>49.693429</td>\n",
       "    </tr>\n",
       "    <tr>\n",
       "      <th>min</th>\n",
       "      <td>1.000000</td>\n",
       "      <td>0.000000</td>\n",
       "      <td>1.000000</td>\n",
       "      <td>0.420000</td>\n",
       "      <td>0.000000</td>\n",
       "      <td>0.000000</td>\n",
       "      <td>0.000000</td>\n",
       "    </tr>\n",
       "    <tr>\n",
       "      <th>25%</th>\n",
       "      <td>223.500000</td>\n",
       "      <td>0.000000</td>\n",
       "      <td>2.000000</td>\n",
       "      <td>20.125000</td>\n",
       "      <td>0.000000</td>\n",
       "      <td>0.000000</td>\n",
       "      <td>7.910400</td>\n",
       "    </tr>\n",
       "    <tr>\n",
       "      <th>50%</th>\n",
       "      <td>446.000000</td>\n",
       "      <td>0.000000</td>\n",
       "      <td>3.000000</td>\n",
       "      <td>28.000000</td>\n",
       "      <td>0.000000</td>\n",
       "      <td>0.000000</td>\n",
       "      <td>14.454200</td>\n",
       "    </tr>\n",
       "    <tr>\n",
       "      <th>75%</th>\n",
       "      <td>668.500000</td>\n",
       "      <td>1.000000</td>\n",
       "      <td>3.000000</td>\n",
       "      <td>38.000000</td>\n",
       "      <td>1.000000</td>\n",
       "      <td>0.000000</td>\n",
       "      <td>31.000000</td>\n",
       "    </tr>\n",
       "    <tr>\n",
       "      <th>max</th>\n",
       "      <td>891.000000</td>\n",
       "      <td>1.000000</td>\n",
       "      <td>3.000000</td>\n",
       "      <td>80.000000</td>\n",
       "      <td>8.000000</td>\n",
       "      <td>6.000000</td>\n",
       "      <td>512.329200</td>\n",
       "    </tr>\n",
       "  </tbody>\n",
       "</table>\n",
       "</div>"
      ],
      "text/plain": [
       "       PassengerId    Survived      Pclass         Age       SibSp  \\\n",
       "count   891.000000  891.000000  891.000000  714.000000  891.000000   \n",
       "mean    446.000000    0.383838    2.308642   29.699118    0.523008   \n",
       "std     257.353842    0.486592    0.836071   14.526497    1.102743   \n",
       "min       1.000000    0.000000    1.000000    0.420000    0.000000   \n",
       "25%     223.500000    0.000000    2.000000   20.125000    0.000000   \n",
       "50%     446.000000    0.000000    3.000000   28.000000    0.000000   \n",
       "75%     668.500000    1.000000    3.000000   38.000000    1.000000   \n",
       "max     891.000000    1.000000    3.000000   80.000000    8.000000   \n",
       "\n",
       "            Parch        Fare  \n",
       "count  891.000000  891.000000  \n",
       "mean     0.381594   32.204208  \n",
       "std      0.806057   49.693429  \n",
       "min      0.000000    0.000000  \n",
       "25%      0.000000    7.910400  \n",
       "50%      0.000000   14.454200  \n",
       "75%      0.000000   31.000000  \n",
       "max      6.000000  512.329200  "
      ]
     },
     "execution_count": 4,
     "metadata": {},
     "output_type": "execute_result"
    }
   ],
   "source": [
    "train.describe()"
   ]
  },
  {
   "cell_type": "code",
   "execution_count": 5,
   "metadata": {},
   "outputs": [
    {
     "name": "stdout",
     "output_type": "stream",
     "text": [
      "Name: 891 unique values\n",
      "Sex: 2 unique values\n",
      "Ticket: 681 unique values\n",
      "Cabin: 147 unique values\n",
      "Embarked: 3 unique values\n"
     ]
    }
   ],
   "source": [
    "for column in train.select_dtypes(exclude=[np.number]).columns.tolist():\n",
    "    print(\"{}: {} unique values\".format(column, train[column].nunique()))  "
   ]
  },
  {
   "cell_type": "code",
   "execution_count": 6,
   "metadata": {},
   "outputs": [
    {
     "data": {
      "text/html": [
       "<div>\n",
       "<style scoped>\n",
       "    .dataframe tbody tr th:only-of-type {\n",
       "        vertical-align: middle;\n",
       "    }\n",
       "\n",
       "    .dataframe tbody tr th {\n",
       "        vertical-align: top;\n",
       "    }\n",
       "\n",
       "    .dataframe thead th {\n",
       "        text-align: right;\n",
       "    }\n",
       "</style>\n",
       "<table border=\"1\" class=\"dataframe\">\n",
       "  <thead>\n",
       "    <tr style=\"text-align: right;\">\n",
       "      <th></th>\n",
       "      <th>PassengerId</th>\n",
       "      <th>Survived</th>\n",
       "      <th>Pclass</th>\n",
       "      <th>Name</th>\n",
       "      <th>Sex</th>\n",
       "      <th>Age</th>\n",
       "      <th>SibSp</th>\n",
       "      <th>Parch</th>\n",
       "      <th>Ticket</th>\n",
       "      <th>Fare</th>\n",
       "      <th>Cabin</th>\n",
       "      <th>Embarked</th>\n",
       "    </tr>\n",
       "  </thead>\n",
       "  <tbody>\n",
       "    <tr>\n",
       "      <th>0</th>\n",
       "      <td>1</td>\n",
       "      <td>0</td>\n",
       "      <td>3</td>\n",
       "      <td>Braund, Mr. Owen Harris</td>\n",
       "      <td>male</td>\n",
       "      <td>22.0</td>\n",
       "      <td>1</td>\n",
       "      <td>0</td>\n",
       "      <td>A/5 21171</td>\n",
       "      <td>7.2500</td>\n",
       "      <td>NaN</td>\n",
       "      <td>S</td>\n",
       "    </tr>\n",
       "    <tr>\n",
       "      <th>1</th>\n",
       "      <td>2</td>\n",
       "      <td>1</td>\n",
       "      <td>1</td>\n",
       "      <td>Cumings, Mrs. John Bradley (Florence Briggs Th...</td>\n",
       "      <td>female</td>\n",
       "      <td>38.0</td>\n",
       "      <td>1</td>\n",
       "      <td>0</td>\n",
       "      <td>PC 17599</td>\n",
       "      <td>71.2833</td>\n",
       "      <td>C85</td>\n",
       "      <td>C</td>\n",
       "    </tr>\n",
       "    <tr>\n",
       "      <th>2</th>\n",
       "      <td>3</td>\n",
       "      <td>1</td>\n",
       "      <td>3</td>\n",
       "      <td>Heikkinen, Miss. Laina</td>\n",
       "      <td>female</td>\n",
       "      <td>26.0</td>\n",
       "      <td>0</td>\n",
       "      <td>0</td>\n",
       "      <td>STON/O2. 3101282</td>\n",
       "      <td>7.9250</td>\n",
       "      <td>NaN</td>\n",
       "      <td>S</td>\n",
       "    </tr>\n",
       "    <tr>\n",
       "      <th>3</th>\n",
       "      <td>4</td>\n",
       "      <td>1</td>\n",
       "      <td>1</td>\n",
       "      <td>Futrelle, Mrs. Jacques Heath (Lily May Peel)</td>\n",
       "      <td>female</td>\n",
       "      <td>35.0</td>\n",
       "      <td>1</td>\n",
       "      <td>0</td>\n",
       "      <td>113803</td>\n",
       "      <td>53.1000</td>\n",
       "      <td>C123</td>\n",
       "      <td>S</td>\n",
       "    </tr>\n",
       "    <tr>\n",
       "      <th>4</th>\n",
       "      <td>5</td>\n",
       "      <td>0</td>\n",
       "      <td>3</td>\n",
       "      <td>Allen, Mr. William Henry</td>\n",
       "      <td>male</td>\n",
       "      <td>35.0</td>\n",
       "      <td>0</td>\n",
       "      <td>0</td>\n",
       "      <td>373450</td>\n",
       "      <td>8.0500</td>\n",
       "      <td>NaN</td>\n",
       "      <td>S</td>\n",
       "    </tr>\n",
       "  </tbody>\n",
       "</table>\n",
       "</div>"
      ],
      "text/plain": [
       "   PassengerId  Survived  Pclass  \\\n",
       "0            1         0       3   \n",
       "1            2         1       1   \n",
       "2            3         1       3   \n",
       "3            4         1       1   \n",
       "4            5         0       3   \n",
       "\n",
       "                                                Name     Sex   Age  SibSp  \\\n",
       "0                            Braund, Mr. Owen Harris    male  22.0      1   \n",
       "1  Cumings, Mrs. John Bradley (Florence Briggs Th...  female  38.0      1   \n",
       "2                             Heikkinen, Miss. Laina  female  26.0      0   \n",
       "3       Futrelle, Mrs. Jacques Heath (Lily May Peel)  female  35.0      1   \n",
       "4                           Allen, Mr. William Henry    male  35.0      0   \n",
       "\n",
       "   Parch            Ticket     Fare Cabin Embarked  \n",
       "0      0         A/5 21171   7.2500   NaN        S  \n",
       "1      0          PC 17599  71.2833   C85        C  \n",
       "2      0  STON/O2. 3101282   7.9250   NaN        S  \n",
       "3      0            113803  53.1000  C123        S  \n",
       "4      0            373450   8.0500   NaN        S  "
      ]
     },
     "execution_count": 6,
     "metadata": {},
     "output_type": "execute_result"
    }
   ],
   "source": [
    "train.head()"
   ]
  },
  {
   "cell_type": "markdown",
   "metadata": {},
   "source": [
    "The prediction task is a classification problem, in which predictions will be made on whether a passenger survived.\n",
    "The output variable is 'Survived', where a value of 1 denotes that a passenger survived, while a value of 0 denotes that the passenger perished. The remaining columns are potential input variables.\n",
    "\n",
    "For the input variables:\n",
    "- 'Ticket' and 'PassengerId' are unique identifiers and will not be useful for prediction. They will be excluded from the modelling. \n",
    "- 'Fare' would not directly impact a passenger's chance of survival at the time of the incident and will be excluded as well. (Fare is probably associated with Pclass and cabin location, which are likely to impact survival, but these columns are already available in the data. So, 'Fare' would not be a useful input variable) \n",
    "- Data types for categorical variables such as 'Survived' and 'Pclass' will be converted from numerical to 'str'\n",
    "- There are missing values for 'Age', 'Cabin' and 'Embarked'. These will need to be filled in later\n"
   ]
  },
  {
   "cell_type": "code",
   "execution_count": 7,
   "metadata": {},
   "outputs": [],
   "source": [
    "for column in ['Survived', 'Pclass']:\n",
    "    train[column] = train[column].astype('str')"
   ]
  },
  {
   "cell_type": "code",
   "execution_count": 8,
   "metadata": {},
   "outputs": [
    {
     "data": {
      "image/png": "[encoded data removed]",
      "text/plain": [
       "<Figure size 432x288 with 1 Axes>"
      ]
     },
     "metadata": {},
     "output_type": "display_data"
    },
    {
     "data": {
      "image/png": "[encoded data removed]",
      "text/plain": [
       "<Figure size 432x288 with 1 Axes>"
      ]
     },
     "metadata": {},
     "output_type": "display_data"
    },
    {
     "data": {
      "image/png": "[encoded data removed]",
      "text/plain": [
       "<Figure size 432x288 with 1 Axes>"
      ]
     },
     "metadata": {},
     "output_type": "display_data"
    },
    {
     "data": {
      "image/png": "[encoded data removed]",
      "text/plain": [
       "<Figure size 432x288 with 1 Axes>"
      ]
     },
     "metadata": {},
     "output_type": "display_data"
    },
    {
     "data": {
      "image/png": "[encoded data removed]",
      "text/plain": [
       "<Figure size 432x288 with 1 Axes>"
      ]
     },
     "metadata": {},
     "output_type": "display_data"
    }
   ],
   "source": [
    "#visualize how categorical input variables affect survival\n",
    "cols = ['Pclass', 'Sex', 'SibSp','Parch', 'Embarked']\n",
    "for col in cols:\n",
    "    plt.figure()\n",
    "    sns.countplot(x=col, data = train, hue=\"Survived\")\n",
    "    plt.title(col)"
   ]
  },
  {
   "cell_type": "code",
   "execution_count": 9,
   "metadata": {},
   "outputs": [
    {
     "data": {
      "image/png": "[encoded data removed]",
      "text/plain": [
       "<Figure size 432x288 with 1 Axes>"
      ]
     },
     "metadata": {},
     "output_type": "display_data"
    }
   ],
   "source": [
    "# visualize how numerical input variables affect survival\n",
    "for status in train[\"Survived\"].unique():\n",
    "    plt.hist(x='Age',data=train[(train['Survived']==status) & (~train['Age'].isna())], alpha=0.5, label=status, bins=30)\n",
    "    plt.title(\"Age distribution\")\n",
    "    plt.legend(title=\"Survived\")"
   ]
  },
  {
   "cell_type": "markdown",
   "metadata": {},
   "source": [
    "From the visualizations, we can infer that: \n",
    "- Females and better Pclass (1 and 2) have higher proportions of survivors\n",
    "- Those not travelling with family (SibSp or Parch = 0) and those embarking at 'S' have lower proportions of survivors\n",
    "- 'Age' of 0-5 years has a higher proportion of survivors compared to other ages."
   ]
  },
  {
   "cell_type": "markdown",
   "metadata": {},
   "source": [
    "### Data cleaning/wrangling\n",
    "#### SibSp/Parch\n",
    "From the preliminary data analysis, passengers travelling without SibSp/Parch tend to have lower survival rates. A new column will be created to indicate whether passenger has any family(SipSp or Parch) on board. "
   ]
  },
  {
   "cell_type": "code",
   "execution_count": 10,
   "metadata": {},
   "outputs": [
    {
     "data": {
      "image/png": "[encoded data removed]",
      "text/plain": [
       "<Figure size 432x288 with 1 Axes>"
      ]
     },
     "metadata": {},
     "output_type": "display_data"
    },
    {
     "data": {
      "image/png": "[encoded data removed]",
      "text/plain": [
       "<Figure size 432x288 with 1 Axes>"
      ]
     },
     "metadata": {},
     "output_type": "display_data"
    },
    {
     "data": {
      "image/png": "[encoded data removed]",
      "text/plain": [
       "<Figure size 432x288 with 1 Axes>"
      ]
     },
     "metadata": {},
     "output_type": "display_data"
    }
   ],
   "source": [
    "def transform_family_info(df):\n",
    "    df[\"HasSibSp\"] = 1\n",
    "    df[\"HasParch\"] = 1\n",
    "    df[\"HasFamily\"] = 1\n",
    "    df.loc[df[\"SibSp\"]==0,\"HasSibSp\"]=0\n",
    "    df.loc[df[\"Parch\"]==0,\"HasParch\"]=0\n",
    "    df.loc[(df[\"HasSibSp\"]==0)&(df[\"HasParch\"]==0), \"HasFamily\"]=0\n",
    "    \n",
    "    return df\n",
    "\n",
    "\n",
    "train = transform_family_info(train)\n",
    "\n",
    "for col in [\"HasSibSp\",\"HasParch\",\"HasFamily\"]:\n",
    "    plt.figure()\n",
    "    sns.countplot(x=col, data = train, hue=\"Survived\")\n",
    "    plt.title(col)"
   ]
  },
  {
   "cell_type": "markdown",
   "metadata": {},
   "source": [
    "There is a marked difference in survival rates for passengers with no family on board."
   ]
  },
  {
   "cell_type": "markdown",
   "metadata": {},
   "source": [
    "#### Age \n",
    "The 'Name' column contains titles i.e. 'Mr', 'Mrs' etc. This info may be useful for a differentiated approach in filling the missing 'Age' values. For example, \"Master\" was a form of address for younger males in the early 20th century. We would also expect titles such as \"Dr\", \"Col\" and \"Sir\" to refer to more mature passengers.\n",
    "\n",
    "'Title' was be extracted from the \"Name\" column and missing 'Age' values were filled based on the median of that corresponding title.  This would avoid overestimating 'Age' for certain groups such as 'Master'."
   ]
  },
  {
   "cell_type": "code",
   "execution_count": 11,
   "metadata": {},
   "outputs": [],
   "source": [
    "train['title'] = train['Name'].apply(lambda x:x.split(',')[1].split('.')[0].strip()) #extract titles from names"
   ]
  },
  {
   "cell_type": "code",
   "execution_count": 12,
   "metadata": {},
   "outputs": [
    {
     "data": {
      "text/plain": [
       "<matplotlib.axes._subplots.AxesSubplot at 0x126f241d0>"
      ]
     },
     "execution_count": 12,
     "metadata": {},
     "output_type": "execute_result"
    },
    {
     "data": {
      "image/png": "[encoded data removed]",
      "text/plain": [
       "<Figure size 432x288 with 1 Axes>"
      ]
     },
     "metadata": {},
     "output_type": "display_data"
    }
   ],
   "source": [
    "sns.boxplot(x=\"Age\", y=\"title\", data=train) #visualize age distributions by title"
   ]
  },
  {
   "cell_type": "markdown",
   "metadata": {},
   "source": [
    "The above figure confirms that there is variation in age distributions for different titles. Missing 'Age' values will be filled using the median age for the corresponding titles."
   ]
  },
  {
   "cell_type": "code",
   "execution_count": 13,
   "metadata": {},
   "outputs": [],
   "source": [
    "age_medians  = train.pivot_table(columns=\"title\", aggfunc='median', values=\"Age\") #get median ages\n",
    "age_medians['overall'] = train['Age'].median() #get overall median age for the entire data set. this acts as a default value in case new titles are present in test data\n",
    "\n",
    "def fill_age(df): #fill NA values for 'Age' column based on title \n",
    "    title = df['title'].unique().item()\n",
    "    try:\n",
    "        df['Age'].fillna(age_medians.loc['Age',title], inplace=True)\n",
    "    except:\n",
    "        df['Age'].fillna(age_medians.loc['Age','overall'], inplace=True)\n",
    "    return df\n",
    "\n",
    "train = train.groupby('title').apply(lambda x: fill_age(x))"
   ]
  },
  {
   "cell_type": "markdown",
   "metadata": {},
   "source": [
    "Based on the distribution of survivors by age, those at Ages 0-5 tend to have a much higher survival rate. A new feature was created to denote whether passengers belonged to this age group."
   ]
  },
  {
   "cell_type": "code",
   "execution_count": 14,
   "metadata": {},
   "outputs": [],
   "source": [
    "def get_age_group(df):\n",
    "    \n",
    "    df['Age5_orLess']=0\n",
    "    df.loc[df['Age']<=5,'Age5_orLess']=1\n",
    "    \n",
    "    return df\n",
    "\n",
    "train = get_age_group(train)"
   ]
  },
  {
   "cell_type": "markdown",
   "metadata": {},
   "source": [
    "#### Cabin"
   ]
  },
  {
   "cell_type": "markdown",
   "metadata": {},
   "source": [
    "According to [this wikipedia article](https://en.wikipedia.org/wiki/Sinking_of_the_RMS_Titanic#%22Iceberg_right_ahead!%22_(23:39)), the collision happened close to midnight, so most passengers had gone to bed. \"Cabin\" would be a good indication of where each passenger was at the time of collision, which would affect their chances of survival (i.e. access to life boats etc). \n",
    "\n",
    "'Cabin_Deck' and \"Cabin_Number\" were extracted from \"Cabin\". Furthermore, according to [Titanic deckplans](https://www.encyclopedia-titanica.org/titanic-deckplans/), even-numbered cabins are located on one side of the ship and odd-numbered ones on the other. A 'Cabin_Number_Loc' column was created to reflect this.\n",
    "\n"
   ]
  },
  {
   "cell_type": "code",
   "execution_count": 15,
   "metadata": {},
   "outputs": [],
   "source": [
    "def get_cabin_info(df):\n",
    "    \n",
    "    #extract Cabin Deck and Number\n",
    "    df['Cabin_Deck']= np.NaN\n",
    "    df['Cabin_Number']= np.NaN\n",
    "    df['Cabin_Number_Loc']= np.NaN\n",
    "    df.loc[~df['Cabin'].isna(),'Cabin_Deck']  = df.loc[~df['Cabin'].isna(),'Cabin'].apply(lambda x:x[0]) #extract alphabet\n",
    "    df.loc[~df['Cabin'].isna(), 'Cabin_Number']  = df.loc[~df['Cabin'].isna(), 'Cabin'].apply(lambda x:x[1:].split(' ')[0]) #retain only first booth number if entries have multiple booths\n",
    "    df['Cabin_Number'] =  pd.to_numeric(df['Cabin_Number'], errors='coerce')\n",
    "    df.loc[df['Cabin_Number']%2==0, 'Cabin_Number_Loc']=\"even\"\n",
    "    df.loc[df['Cabin_Number']%2==1, 'Cabin_Number_Loc']=\"odd\"\n",
    "    \n",
    "    return df\n",
    "\n",
    "train = get_cabin_info(train)"
   ]
  },
  {
   "cell_type": "code",
   "execution_count": 16,
   "metadata": {},
   "outputs": [
    {
     "data": {
      "text/plain": [
       "<matplotlib.axes._subplots.AxesSubplot at 0x1246c1ef0>"
      ]
     },
     "execution_count": 16,
     "metadata": {},
     "output_type": "execute_result"
    },
    {
     "data": {
      "image/png": "[encoded data removed]",
      "text/plain": [
       "<Figure size 432x288 with 1 Axes>"
      ]
     },
     "metadata": {},
     "output_type": "display_data"
    }
   ],
   "source": [
    "#visualize number of survivors by cabin deck\n",
    "sns.countplot(x='Cabin_Deck',data=train[~train['Cabin_Deck'].isna()],hue=\"Survived\")"
   ]
  },
  {
   "cell_type": "code",
   "execution_count": 17,
   "metadata": {},
   "outputs": [],
   "source": [
    "# There is no Deck T on the Titanic, so that observation will be set to 'NA'\n",
    "train['Cabin_Deck'] = train['Cabin_Deck'].replace(\"T\",np.NaN) "
   ]
  },
  {
   "cell_type": "code",
   "execution_count": 18,
   "metadata": {},
   "outputs": [
    {
     "data": {
      "image/png": "[encoded data removed]",
      "text/plain": [
       "<Figure size 432x288 with 1 Axes>"
      ]
     },
     "metadata": {},
     "output_type": "display_data"
    }
   ],
   "source": [
    "#visualize number of survivors by cabin number\n",
    "for status in train[\"Survived\"].unique():\n",
    "    plt.hist(x='Cabin_Number',data=train[(train['Survived']==status) & (~train['Cabin_Number'].isna())], alpha=0.5, label=status, bins=30)\n",
    "    plt.title(\"Cabin Number distribution\")\n",
    "    plt.legend(title=\"Survived\")"
   ]
  },
  {
   "cell_type": "code",
   "execution_count": 19,
   "metadata": {},
   "outputs": [
    {
     "data": {
      "text/plain": [
       "<matplotlib.axes._subplots.AxesSubplot at 0x12739f1d0>"
      ]
     },
     "execution_count": 19,
     "metadata": {},
     "output_type": "execute_result"
    },
    {
     "data": {
      "image/png": "[encoded data removed]",
      "text/plain": [
       "<Figure size 432x288 with 1 Axes>"
      ]
     },
     "metadata": {},
     "output_type": "display_data"
    }
   ],
   "source": [
    "#visualize number of survivors by Cabin_Number_Loc\n",
    "sns.countplot(x='Cabin_Number_Loc',data=train[~train['Cabin_Number_Loc'].isna()],hue=\"Survived\")"
   ]
  },
  {
   "cell_type": "code",
   "execution_count": 20,
   "metadata": {},
   "outputs": [
    {
     "data": {
      "text/plain": [
       "Cabin               687\n",
       "Cabin_Deck          688\n",
       "Cabin_Number        695\n",
       "Cabin_Number_Loc    695\n",
       "dtype: int64"
      ]
     },
     "execution_count": 20,
     "metadata": {},
     "output_type": "execute_result"
    }
   ],
   "source": [
    "# number of missing Cabin values\n",
    "train[['Cabin','Cabin_Deck','Cabin_Number','Cabin_Number_Loc']].isna().sum()"
   ]
  },
  {
   "cell_type": "markdown",
   "metadata": {},
   "source": [
    "Based on available data, cabin location appears to have an impact on survival likelihood. \n",
    "\n",
    "Decks A and G had lower proportions of survivors compared to other decks. \n",
    "\n",
    "Odd numbered cabins had a higher proportion of survivors compared to even numbered cabins. \n",
    "\n",
    "However, over 75% of 'Cabin_Deck' and 'Cabin_Number_Loc' values are missing. With that much missing data, these input variables cannot be used to train the model. "
   ]
  },
  {
   "cell_type": "markdown",
   "metadata": {},
   "source": [
    "##### Embarked\n",
    "\n",
    "There were 2 missing values for Embarked, which will be filled with the mode"
   ]
  },
  {
   "cell_type": "code",
   "execution_count": 21,
   "metadata": {},
   "outputs": [],
   "source": [
    "train['Embarked'] = train['Embarked'].fillna(train['Embarked'].mode())"
   ]
  },
  {
   "cell_type": "code",
   "execution_count": 22,
   "metadata": {},
   "outputs": [
    {
     "name": "stdout",
     "output_type": "stream",
     "text": [
      "<class 'pandas.core.frame.DataFrame'>\n",
      "RangeIndex: 891 entries, 0 to 890\n",
      "Data columns (total 20 columns):\n",
      "PassengerId         891 non-null int64\n",
      "Survived            891 non-null object\n",
      "Pclass              891 non-null object\n",
      "Name                891 non-null object\n",
      "Sex                 891 non-null object\n",
      "Age                 891 non-null float64\n",
      "SibSp               891 non-null int64\n",
      "Parch               891 non-null int64\n",
      "Ticket              891 non-null object\n",
      "Fare                891 non-null float64\n",
      "Cabin               204 non-null object\n",
      "Embarked            889 non-null object\n",
      "HasSibSp            891 non-null int64\n",
      "HasParch            891 non-null int64\n",
      "HasFamily           891 non-null int64\n",
      "title               891 non-null object\n",
      "Age5_orLess         891 non-null int64\n",
      "Cabin_Deck          203 non-null object\n",
      "Cabin_Number        196 non-null float64\n",
      "Cabin_Number_Loc    196 non-null object\n",
      "dtypes: float64(3), int64(7), object(10)\n",
      "memory usage: 139.3+ KB\n"
     ]
    }
   ],
   "source": [
    "train.info()"
   ]
  },
  {
   "cell_type": "markdown",
   "metadata": {},
   "source": [
    "### Model Training\n",
    "\n"
   ]
  },
  {
   "cell_type": "markdown",
   "metadata": {},
   "source": [
    "2 algorithms were considered: random forest, which minimizes overfitting; and logistic regression, which is a relatively robust classifier with interpretable results.\n",
    "\n",
    "The labelled 'train.csv' data will be split into a training and test set :\n",
    "- Training set: N-fold cross-validation and GridSearchCV will be used to train and optimize models. The best model will be selected based on cross-validation scores.\n",
    "- Test set (labelled): The selected model's predictive performance will be evaluated using the held-out labelled test set. \n",
    "\n",
    "Subsequently, the selected model will be used to make predictions on the unlabelled 'test.csv' data."
   ]
  },
  {
   "cell_type": "code",
   "execution_count": 23,
   "metadata": {},
   "outputs": [],
   "source": [
    "from sklearn.ensemble import RandomForestClassifier\n",
    "from sklearn.linear_model import LogisticRegression\n",
    "from sklearn.model_selection import train_test_split\n",
    "from sklearn.metrics import accuracy_score, confusion_matrix, recall_score, precision_score\n",
    "from sklearn.model_selection import GridSearchCV, StratifiedKFold"
   ]
  },
  {
   "cell_type": "code",
   "execution_count": 24,
   "metadata": {},
   "outputs": [],
   "source": [
    "#include only variables of interest\n",
    "variables = [\"Pclass\",\"Sex\",\"Age\",\"SibSp\",\"Parch\", \"Embarked\", \"HasSibSp\", \"HasParch\", \"Age5_orLess\"]\n",
    "cat_var = [\"Sex\",\"Embarked\",\"Pclass\"]\n",
    "\n",
    "X = train[variables]\n",
    "\n",
    "X = pd.get_dummies(X, columns=cat_var, drop_first=True)\n",
    "y = train[\"Survived\"]\n",
    "\n",
    "X_train, X_test, y_train, y_test = train_test_split(X,y,test_size=0.3, random_state=43)\n"
   ]
  },
  {
   "cell_type": "markdown",
   "metadata": {},
   "source": [
    "#### Random Forest"
   ]
  },
  {
   "cell_type": "code",
   "execution_count": 25,
   "metadata": {},
   "outputs": [
    {
     "name": "stdout",
     "output_type": "stream",
     "text": [
      "Cross validation score:0.831\n",
      "Best params:{'criterion': 'gini', 'min_samples_split': 26, 'n_estimators': 100}\n"
     ]
    }
   ],
   "source": [
    "def randomforestclassifier(X,y):\n",
    "    rf = RandomForestClassifier(random_state=77)\n",
    "\n",
    "    params = {'n_estimators': np.arange(100,500,100),'min_samples_split':np.arange(2,30,4),\n",
    "              'criterion':[\"gini\",\"entropy\"]}\n",
    "\n",
    "    rf_model_cv = GridSearchCV(rf, params, cv=StratifiedKFold(n_splits = 5, random_state=77), scoring='accuracy')\n",
    "    rf_model_cv.fit(X,y)\n",
    "    \n",
    "    print(\"Cross validation score:{:.3f}\".format(rf_model_cv.best_score_))\n",
    "    print(\"Best params:{}\".format(rf_model_cv.best_params_))\n",
    "\n",
    "    return rf_model_cv\n",
    "\n",
    "rfc = randomforestclassifier(X_train,y_train)"
   ]
  },
  {
   "cell_type": "markdown",
   "metadata": {},
   "source": [
    "#### Logistic Regression"
   ]
  },
  {
   "cell_type": "code",
   "execution_count": 26,
   "metadata": {},
   "outputs": [
    {
     "name": "stdout",
     "output_type": "stream",
     "text": [
      "Cross validation score:0.843\n",
      "Best params:{'C': 0.30000000000000004, 'solver': 'lbfgs'}\n"
     ]
    }
   ],
   "source": [
    "def logisticregression(X,y):\n",
    "    log = LogisticRegression(max_iter=500)\n",
    "\n",
    "    params = {'C':np.linspace(0.1,1,10), 'solver':['liblinear','lbfgs', 'newton-cg']}\n",
    "\n",
    "    log_model_cv = GridSearchCV(log, params, cv=StratifiedKFold(n_splits=5,random_state=77), scoring = \"accuracy\")\n",
    "    log_model_cv.fit(X,y)\n",
    "\n",
    "    print(\"Cross validation score:{:.3f}\".format(log_model_cv.best_score_))\n",
    "    print(\"Best params:{}\".format(log_model_cv.best_params_))\n",
    "    \n",
    "    return log_model_cv\n",
    "    \n",
    "log = logisticregression(X_train,y_train)"
   ]
  },
  {
   "cell_type": "markdown",
   "metadata": {},
   "source": [
    "Cross validation accuracy scores for both models are comparable at 83-84%\n",
    "\n",
    "The Log Regression model will be selected as the final model as it has an advantage over random forest in that its outputs are more interpretable (coefficients reflect whether input variables negatively or positively affect outcome) \n"
   ]
  },
  {
   "cell_type": "markdown",
   "metadata": {},
   "source": [
    "### Model Evaluation"
   ]
  },
  {
   "cell_type": "code",
   "execution_count": 27,
   "metadata": {},
   "outputs": [
    {
     "data": {
      "text/plain": [
       "Text(0.5, 1.0, 'Coefficients for Log Regression Model')"
      ]
     },
     "execution_count": 27,
     "metadata": {},
     "output_type": "execute_result"
    },
    {
     "data": {
      "image/png": "[encoded data removed]",
      "text/plain": [
       "<Figure size 576x432 with 1 Axes>"
      ]
     },
     "metadata": {},
     "output_type": "display_data"
    }
   ],
   "source": [
    "#Visualize coefs of log model\n",
    "weights_log = pd.Series(log.best_estimator_.coef_.transpose()[:,0], index=X.columns).sort_values(ascending=False)\n",
    "\n",
    "fig, ax = plt.subplots(figsize=(8,6))\n",
    "ypos = np.arange(0,len(weights_log))[::-1]\n",
    "\n",
    "positive_weights = weights_log[weights_log>=0]\n",
    "ypos_positive = ypos[weights_log>=0]\n",
    "negative_weights = weights_log[weights_log<0]\n",
    "ypos_negative = ypos[weights_log<=0]\n",
    "ax.barh(ypos_positive,positive_weights, color='#77B7D8')\n",
    "ax.barh(ypos_negative,negative_weights, color='#C16C82')\n",
    "\n",
    "ax.set_yticks(ypos)\n",
    "ax.set_yticklabels(weights_log.index)\n",
    "\n",
    "for i,value in zip(ypos, weights_log.values):\n",
    "    ax.annotate(\"{:.2f}\".format(value), xy=(value, i))\n",
    "    \n",
    "plt.title(\"Coefficients for Log Regression Model\")"
   ]
  },
  {
   "cell_type": "code",
   "execution_count": 28,
   "metadata": {},
   "outputs": [
    {
     "name": "stdout",
     "output_type": "stream",
     "text": [
      "MODEL PERFORMANCE\n",
      "Accuracy: 78.36%\n",
      "Confusion matrix:\n",
      "[[146  18]\n",
      " [ 40  64]]\n",
      "Recall:\n",
      "61.54%\n",
      "Precision:\n",
      "78.05%\n"
     ]
    }
   ],
   "source": [
    "## evaluate prediction accuracy on held out labelled data set using log model\n",
    "y_pred = log.predict(X_test)\n",
    "\n",
    "print(\"MODEL PERFORMANCE\")\n",
    "print(\"Accuracy: {:.2f}%\".format(accuracy_score(y_test,y_pred)*100))\n",
    "print(\"Confusion matrix:\\n{}\".format(confusion_matrix(y_test,y_pred)))\n",
    "print(\"Recall:\\n{:.2f}%\".format(100*recall_score(y_test.astype('int'), y_pred.astype('int'))))\n",
    "print(\"Precision:\\n{:.2f}%\".format(100*precision_score(y_test.astype('int'), y_pred.astype('int'))))"
   ]
  },
  {
   "cell_type": "code",
   "execution_count": 29,
   "metadata": {},
   "outputs": [
    {
     "name": "stdout",
     "output_type": "stream",
     "text": [
      "BASELINE PERFORMANCE (all outcomes assumed to take the mode of y_train)\n",
      "Accuracy: 61.19%\n",
      "Confusion matrix:\n",
      "[[164   0]\n",
      " [104   0]]\n"
     ]
    }
   ],
   "source": [
    "#evaluate prediction accuracy using a baseline guess of y_train.mode() for all predictions\n",
    "y_pred2 = np.repeat(y_train.mode(), len(y_test))\n",
    "\n",
    "print(\"BASELINE PERFORMANCE (all outcomes assumed to take the mode of y_train)\")\n",
    "print(\"Accuracy: {:.2f}%\".format(accuracy_score(y_test,y_pred2)*100))\n",
    "print(\"Confusion matrix:\\n{}\".format(confusion_matrix(y_test,y_pred2)))"
   ]
  },
  {
   "cell_type": "markdown",
   "metadata": {},
   "source": [
    "### Conclusions\n",
    "\n",
    "The log model gives an accuracy of 78% on the held out (labelled) test set, a 17% improvement over the baseline. \n",
    "\n",
    "Based on the log model coefficients, being male or in Pclass 3 greatly reduced the likelihood of survival, while passengers aged 5 or less were more likely to survive. \n",
    "\n",
    "Interestingly, \"SibSp\" has a negative coefficient i.e. a higher number reduced the likelihood of survival. On the other hand, \"HasSibSp\" has a positive coefficient, i.e. survival likelhood was higher for those with siblings/spouses on board than those without. A similar, but less pronounced trend was seen for Parch.\n",
    "\n",
    "We could infer that having a large number of family members on board might adversely affect survival (having a large family may delay escape as one may try to find all his/her family members before getting on a life boat), while not having any family on board at all also adversely affects survival (i.e. there is no one to help look out for you and realise you are missing)"
   ]
  },
  {
   "cell_type": "markdown",
   "metadata": {},
   "source": [
    "#### Predictions on unlabelled test set"
   ]
  },
  {
   "cell_type": "code",
   "execution_count": 30,
   "metadata": {},
   "outputs": [
    {
     "data": {
      "text/plain": [
       "PassengerId    0.000000\n",
       "Pclass         0.000000\n",
       "Name           0.000000\n",
       "Sex            0.000000\n",
       "Age            0.205742\n",
       "SibSp          0.000000\n",
       "Parch          0.000000\n",
       "Ticket         0.000000\n",
       "Fare           0.002392\n",
       "Cabin          0.782297\n",
       "Embarked       0.000000\n",
       "dtype: float64"
      ]
     },
     "execution_count": 30,
     "metadata": {},
     "output_type": "execute_result"
    }
   ],
   "source": [
    "test = pd.read_csv(\"test.csv\")\n",
    "test.isnull().sum()/len(test)"
   ]
  },
  {
   "cell_type": "code",
   "execution_count": 31,
   "metadata": {},
   "outputs": [],
   "source": [
    "# define a function that consolidates the data cleaning and preprocessing steps to facilitate treatment of unlabelled test set \n",
    "def preproc(df):\n",
    "    \n",
    "    #fill missing age values\n",
    "    df['title'] = df['Name'].apply(lambda x:x.split(',')[1].split('.')[0].strip()) #extract titles from names\n",
    "    df = df.groupby('title').apply(lambda x: fill_age(x))\n",
    "    \n",
    "    #change Pclass to categorical var\n",
    "    df['Pclass']=df['Pclass'].astype('str')\n",
    "    \n",
    "    #fill missing Embarked data\n",
    "    df['Embarked'] = df['Embarked'].fillna(df['Embarked'].mode())\n",
    "    \n",
    "    #create categorical SibSp/Parch/Family/Age columns\n",
    "    df = transform_family_info(df)\n",
    "    df = get_age_group(df)\n",
    "    \n",
    "    return df\n",
    "\n",
    "\n",
    "test_cleaned = preproc(test) #preprocess test data in the same way as train\n",
    "X_test_unlabelled = test_cleaned[variables]\n",
    "X_test_unlabelled = pd.get_dummies(X_test_unlabelled , columns=cat_var)\n",
    "\n",
    "\n",
    "def add_missing_dummy_columns(train, test): #ensure test set is not missing columns needed for prediction\n",
    "    missing_cols = set(train.columns) - set(test.columns) \n",
    "    for c in missing_cols:\n",
    "        test[c] = 0\n",
    "    test = test[train.columns]\n",
    "    return test\n",
    "\n",
    "X_test_unlabelled = add_missing_dummy_columns(X,X_test_unlabelled)"
   ]
  },
  {
   "cell_type": "code",
   "execution_count": 32,
   "metadata": {},
   "outputs": [],
   "source": [
    "filename = \"predictions.csv\"\n",
    "\n",
    "predictions = log.predict(X_test_unlabelled) \n",
    "predictions_df = pd.DataFrame({'PassengerId': test['PassengerId'], 'Survived': predictions})\n",
    "predictions_df.to_csv(filename, index=False)"
   ]
  }
 ],
 "metadata": {
  "kernelspec": {
   "display_name": "Python 3",
   "language": "python",
   "name": "python3"
  },
  "language_info": {
   "codemirror_mode": {
    "name": "ipython",
    "version": 3
   },
   "file_extension": ".py",
   "mimetype": "text/x-python",
   "name": "python",
   "nbconvert_exporter": "python",
   "pygments_lexer": "ipython3",
   "version": "3.6.6"
  }
 },
 "nbformat": 4,
 "nbformat_minor": 2
}
