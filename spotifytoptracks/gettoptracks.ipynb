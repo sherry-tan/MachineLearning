{
 "cells": [
  {
   "cell_type": "code",
   "execution_count": 1,
   "metadata": {},
   "outputs": [],
   "source": [
    "import requests\n",
    "from bs4 import BeautifulSoup\n",
    "import numpy as np\n",
    "import pandas as pd\n",
    "\n",
    "\n",
    "def get_soup(url):\n",
    "\n",
    "    header = {\n",
    "        \"User-Agent\":\"Mozilla/5.0 (Macintosh; Intel Mac OS X 10_13_1) AppleWebKit/537.36 (KHTML, like Gecko) Chrome/63.0.3239.108 Safari/537.36Name\"\n",
    "    }\n",
    "\n",
    "    content = requests.get(url , headers = header).text\n",
    "\n",
    "    soup = BeautifulSoup(content, \"html.parser\")\n",
    "    \n",
    "    return soup"
   ]
  },
  {
   "cell_type": "code",
   "execution_count": 80,
   "metadata": {},
   "outputs": [],
   "source": [
    "# get list of date ranges\n",
    "url = \"https://spotifycharts.com/regional/sg/weekly/latest\"\n",
    "soup = get_soup(url)\n",
    "\n",
    "regionSoup = soup.find('div',{'class':\"responsive-select\", 'data-type':\"country\"})\n",
    "\n",
    "regionlist = []\n",
    "for element in regionSoup.find_all('li'):\n",
    "    regionlist.append(element['data-value'])"
   ]
  },
  {
   "cell_type": "code",
   "execution_count": 81,
   "metadata": {},
   "outputs": [
    {
     "data": {
      "text/plain": [
       "['global',\n",
       " 'us',\n",
       " 'gb',\n",
       " 'ad',\n",
       " 'ar',\n",
       " 'at',\n",
       " 'au',\n",
       " 'be',\n",
       " 'bg',\n",
       " 'bo',\n",
       " 'br',\n",
       " 'ca',\n",
       " 'ch',\n",
       " 'cl',\n",
       " 'co',\n",
       " 'cr',\n",
       " 'cy',\n",
       " 'cz',\n",
       " 'de',\n",
       " 'dk',\n",
       " 'do',\n",
       " 'ec',\n",
       " 'ee',\n",
       " 'es',\n",
       " 'fi',\n",
       " 'fr',\n",
       " 'gr',\n",
       " 'gt',\n",
       " 'hk',\n",
       " 'hn',\n",
       " 'hu',\n",
       " 'id',\n",
       " 'ie',\n",
       " 'il',\n",
       " 'in',\n",
       " 'is',\n",
       " 'it',\n",
       " 'jp',\n",
       " 'lt',\n",
       " 'lu',\n",
       " 'lv',\n",
       " 'mc',\n",
       " 'mt',\n",
       " 'mx',\n",
       " 'my',\n",
       " 'ni',\n",
       " 'nl',\n",
       " 'no',\n",
       " 'nz',\n",
       " 'pa',\n",
       " 'pe',\n",
       " 'ph',\n",
       " 'pl',\n",
       " 'pt',\n",
       " 'py',\n",
       " 'ro',\n",
       " 'se',\n",
       " 'sg',\n",
       " 'sk',\n",
       " 'sv',\n",
       " 'th',\n",
       " 'tr',\n",
       " 'tw',\n",
       " 'uy',\n",
       " 'vn',\n",
       " 'za']"
      ]
     },
     "execution_count": 81,
     "metadata": {},
     "output_type": "execute_result"
    }
   ],
   "source": [
    "regionlist"
   ]
  },
  {
   "cell_type": "code",
   "execution_count": null,
   "metadata": {},
   "outputs": [],
   "source": [
    "# get list of regions\n",
    "url = \"https://spotifycharts.com/regional/sg/weekly/latest\"\n",
    "soup = get_soup(url)\n",
    "\n",
    "datestrings = soup.find('div',{'class':\"responsive-select\", 'data-type':\"date\"})\n",
    "\n",
    "datelist = []\n",
    "for element in datestrings.find_all('li'):\n",
    "    datelist.append(element['data-value'])"
   ]
  },
  {
   "cell_type": "code",
   "execution_count": 43,
   "metadata": {},
   "outputs": [
    {
     "name": "stdout",
     "output_type": "stream",
     "text": [
      "2016-12-23--2016-12-30 to 2019-03-08--2019-03-15 for SG\n"
     ]
    }
   ],
   "source": [
    "print(\"{} to {} for SG\".format(datelist[-1],datelist[0]))"
   ]
  },
  {
   "cell_type": "code",
   "execution_count": 24,
   "metadata": {},
   "outputs": [],
   "source": [
    "url = \"https://spotifycharts.com/regional/sg/weekly/latest\"\n",
    "soup = get_soup(url)\n",
    "track_soup= soup.find('table',{'class':\"chart-table\"}).find('tbody').find_all('tr')"
   ]
  },
  {
   "cell_type": "code",
   "execution_count": 115,
   "metadata": {},
   "outputs": [],
   "source": [
    "url_prefix = \"https://spotifycharts.com/regional/\"\n",
    "listType = \"weekly\"\n",
    "region = \"sg\"\n",
    "\n",
    "trackrankings={}\n",
    "trackrankings[region]={}\n",
    "\n",
    "for date in datelist:\n",
    "    trackrankings[region][date] = {}\n",
    "    url = url_prefix+region+\"/\"+listType+\"/\"+date\n",
    "    \n",
    "    try:\n",
    "        track_soup = get_soup(url).find('table',{'class':\"chart-table\"}).find('tbody')\n",
    "        for track in track_soup.find_all('tr'):\n",
    "            #dct = {}\n",
    "            pos = track.find('td',{'class':\"chart-table-position\"}).text\n",
    "            trackrankings[region][date][pos] = {}\n",
    "            trackrankings[region][date][pos]['trackname'] = track.find('td',{'class':\"chart-table-track\"}).find('strong').text\n",
    "            trackrankings[region][date][pos]['artist'] = track.find('td',{'class':\"chart-table-track\"}).find('span').text[3:]\n",
    "            trackrankings[region][date][pos]['streams'] = track.find('td',{'class':\"chart-table-streams\"}).text\n",
    "            \n",
    "    except:\n",
    "        trackrankings[region][date] = \"Unknown\"\n",
    "    "
   ]
  },
  {
   "cell_type": "code",
   "execution_count": 77,
   "metadata": {},
   "outputs": [],
   "source": [
    "import json\n",
    "jsondct = json.dumps(trackrankings)\n",
    "f = open(\"sg1.json\",\"w\")\n",
    "f.write(jsondct)\n",
    "f.close()"
   ]
  },
  {
   "cell_type": "code",
   "execution_count": null,
   "metadata": {},
   "outputs": [],
   "source": []
  }
 ],
 "metadata": {
  "kernelspec": {
   "display_name": "Python 3",
   "language": "python",
   "name": "python3"
  },
  "language_info": {
   "codemirror_mode": {
    "name": "ipython",
    "version": 3
   },
   "file_extension": ".py",
   "mimetype": "text/x-python",
   "name": "python",
   "nbconvert_exporter": "python",
   "pygments_lexer": "ipython3",
   "version": "3.6.7"
  }
 },
 "nbformat": 4,
 "nbformat_minor": 2
}
